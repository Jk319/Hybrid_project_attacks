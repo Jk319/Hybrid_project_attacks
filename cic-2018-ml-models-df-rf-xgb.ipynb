{
 "cells": [
  {
   "cell_type": "code",
   "execution_count": 1,
   "id": "f7717f90",
   "metadata": {
    "_cell_guid": "b1076dfc-b9ad-4769-8c92-a6c4dae69d19",
    "_uuid": "8f2839f25d086af736a60e9eeb907d3b93b6e0e5",
    "execution": {
     "iopub.execute_input": "2024-10-13T09:48:05.178667Z",
     "iopub.status.busy": "2024-10-13T09:48:05.177599Z",
     "iopub.status.idle": "2024-10-13T09:48:05.195510Z",
     "shell.execute_reply": "2024-10-13T09:48:05.194395Z"
    },
    "papermill": {
     "duration": 0.034067,
     "end_time": "2024-10-13T09:48:05.197767",
     "exception": false,
     "start_time": "2024-10-13T09:48:05.163700",
     "status": "completed"
    },
    "tags": []
   },
   "outputs": [
    {
     "name": "stdout",
     "output_type": "stream",
     "text": [
      "/kaggle/input/csecicids2018-cleaned/cleaned_ids2018_sampled.csv\n"
     ]
    }
   ],
   "source": [
    "# This Python 3 environment comes with many helpful analytics libraries installed\n",
    "# It is defined by the kaggle/python Docker image: https://github.com/kaggle/docker-python\n",
    "# For example, here's several helpful packages to load\n",
    "\n",
    "import numpy as np # linear algebra\n",
    "import pandas as pd # data processing, CSV file I/O (e.g. pd.read_csv)\n",
    "\n",
    "# Input data files are available in the read-only \"../input/\" directory\n",
    "# For example, running this (by clicking run or pressing Shift+Enter) will list all files under the input directory\n",
    "\n",
    "import os\n",
    "for dirname, _, filenames in os.walk('/kaggle/input'):\n",
    "    for filename in filenames:\n",
    "        print(os.path.join(dirname, filename))\n",
    "\n",
    "# You can write up to 20GB to the current directory (/kaggle/working/) that gets preserved as output when you create a version using \"Save & Run All\" \n",
    "# You can also write temporary files to /kaggle/temp/, but they won't be saved outside of the current session"
   ]
  },
  {
   "cell_type": "markdown",
   "id": "9c3b9553",
   "metadata": {
    "papermill": {
     "duration": 0.010071,
     "end_time": "2024-10-13T09:48:05.218424",
     "exception": false,
     "start_time": "2024-10-13T09:48:05.208353",
     "status": "completed"
    },
    "tags": []
   },
   "source": [
    "# Reading the dataset"
   ]
  },
  {
   "cell_type": "code",
   "execution_count": 2,
   "id": "20a9584e",
   "metadata": {
    "execution": {
     "iopub.execute_input": "2024-10-13T09:48:05.240423Z",
     "iopub.status.busy": "2024-10-13T09:48:05.239753Z",
     "iopub.status.idle": "2024-10-13T09:48:19.661414Z",
     "shell.execute_reply": "2024-10-13T09:48:19.660310Z"
    },
    "papermill": {
     "duration": 14.435446,
     "end_time": "2024-10-13T09:48:19.664074",
     "exception": false,
     "start_time": "2024-10-13T09:48:05.228628",
     "status": "completed"
    },
    "tags": []
   },
   "outputs": [],
   "source": [
    "# read the data\n",
    "df_dataset = pd.read_csv(\"/kaggle/input/csecicids2018-cleaned/cleaned_ids2018_sampled.csv\")"
   ]
  },
  {
   "cell_type": "markdown",
   "id": "fe459d69",
   "metadata": {
    "papermill": {
     "duration": 0.009768,
     "end_time": "2024-10-13T09:48:19.684268",
     "exception": false,
     "start_time": "2024-10-13T09:48:19.674500",
     "status": "completed"
    },
    "tags": []
   },
   "source": [
    "# Displaying the data"
   ]
  },
  {
   "cell_type": "code",
   "execution_count": 3,
   "id": "dbd8e846",
   "metadata": {
    "execution": {
     "iopub.execute_input": "2024-10-13T09:48:19.705813Z",
     "iopub.status.busy": "2024-10-13T09:48:19.705390Z",
     "iopub.status.idle": "2024-10-13T09:48:20.028597Z",
     "shell.execute_reply": "2024-10-13T09:48:20.027614Z"
    },
    "papermill": {
     "duration": 0.336906,
     "end_time": "2024-10-13T09:48:20.031151",
     "exception": false,
     "start_time": "2024-10-13T09:48:19.694245",
     "status": "completed"
    },
    "tags": []
   },
   "outputs": [
    {
     "data": {
      "text/html": [
       "<div>\n",
       "<style scoped>\n",
       "    .dataframe tbody tr th:only-of-type {\n",
       "        vertical-align: middle;\n",
       "    }\n",
       "\n",
       "    .dataframe tbody tr th {\n",
       "        vertical-align: top;\n",
       "    }\n",
       "\n",
       "    .dataframe thead th {\n",
       "        text-align: right;\n",
       "    }\n",
       "</style>\n",
       "<table border=\"1\" class=\"dataframe\">\n",
       "  <thead>\n",
       "    <tr style=\"text-align: right;\">\n",
       "      <th></th>\n",
       "      <th>Unnamed: 0</th>\n",
       "      <th>Dst Port</th>\n",
       "      <th>Protocol</th>\n",
       "      <th>Flow Duration</th>\n",
       "      <th>Tot Fwd Pkts</th>\n",
       "      <th>Tot Bwd Pkts</th>\n",
       "      <th>TotLen Fwd Pkts</th>\n",
       "      <th>TotLen Bwd Pkts</th>\n",
       "      <th>Fwd Pkt Len Max</th>\n",
       "      <th>Fwd Pkt Len Min</th>\n",
       "      <th>...</th>\n",
       "      <th>Fwd Seg Size Min</th>\n",
       "      <th>Active Mean</th>\n",
       "      <th>Active Std</th>\n",
       "      <th>Active Max</th>\n",
       "      <th>Active Min</th>\n",
       "      <th>Idle Mean</th>\n",
       "      <th>Idle Std</th>\n",
       "      <th>Idle Max</th>\n",
       "      <th>Idle Min</th>\n",
       "      <th>Label</th>\n",
       "    </tr>\n",
       "  </thead>\n",
       "  <tbody>\n",
       "    <tr>\n",
       "      <th>0</th>\n",
       "      <td>146275</td>\n",
       "      <td>3389</td>\n",
       "      <td>6</td>\n",
       "      <td>5206015</td>\n",
       "      <td>9</td>\n",
       "      <td>11</td>\n",
       "      <td>1213</td>\n",
       "      <td>1948</td>\n",
       "      <td>661</td>\n",
       "      <td>0</td>\n",
       "      <td>...</td>\n",
       "      <td>20</td>\n",
       "      <td>0.000000</td>\n",
       "      <td>0.000000</td>\n",
       "      <td>0</td>\n",
       "      <td>0</td>\n",
       "      <td>0.000000e+00</td>\n",
       "      <td>0.000000e+00</td>\n",
       "      <td>0</td>\n",
       "      <td>0</td>\n",
       "      <td>1</td>\n",
       "    </tr>\n",
       "    <tr>\n",
       "      <th>1</th>\n",
       "      <td>512109</td>\n",
       "      <td>443</td>\n",
       "      <td>6</td>\n",
       "      <td>60991608</td>\n",
       "      <td>14</td>\n",
       "      <td>14</td>\n",
       "      <td>1211</td>\n",
       "      <td>3396</td>\n",
       "      <td>875</td>\n",
       "      <td>0</td>\n",
       "      <td>...</td>\n",
       "      <td>20</td>\n",
       "      <td>116504.666667</td>\n",
       "      <td>117401.762867</td>\n",
       "      <td>356150</td>\n",
       "      <td>68519</td>\n",
       "      <td>1.000239e+07</td>\n",
       "      <td>1.665183e+04</td>\n",
       "      <td>10009249</td>\n",
       "      <td>9968397</td>\n",
       "      <td>1</td>\n",
       "    </tr>\n",
       "    <tr>\n",
       "      <th>2</th>\n",
       "      <td>807703</td>\n",
       "      <td>53</td>\n",
       "      <td>17</td>\n",
       "      <td>27292</td>\n",
       "      <td>1</td>\n",
       "      <td>1</td>\n",
       "      <td>45</td>\n",
       "      <td>163</td>\n",
       "      <td>45</td>\n",
       "      <td>45</td>\n",
       "      <td>...</td>\n",
       "      <td>8</td>\n",
       "      <td>0.000000</td>\n",
       "      <td>0.000000</td>\n",
       "      <td>0</td>\n",
       "      <td>0</td>\n",
       "      <td>0.000000e+00</td>\n",
       "      <td>0.000000e+00</td>\n",
       "      <td>0</td>\n",
       "      <td>0</td>\n",
       "      <td>1</td>\n",
       "    </tr>\n",
       "    <tr>\n",
       "      <th>3</th>\n",
       "      <td>491912</td>\n",
       "      <td>443</td>\n",
       "      <td>6</td>\n",
       "      <td>70343424</td>\n",
       "      <td>17</td>\n",
       "      <td>20</td>\n",
       "      <td>1118</td>\n",
       "      <td>5653</td>\n",
       "      <td>258</td>\n",
       "      <td>0</td>\n",
       "      <td>...</td>\n",
       "      <td>20</td>\n",
       "      <td>527683.500000</td>\n",
       "      <td>386311.526445</td>\n",
       "      <td>800847</td>\n",
       "      <td>254520</td>\n",
       "      <td>3.457024e+07</td>\n",
       "      <td>3.406089e+07</td>\n",
       "      <td>58654921</td>\n",
       "      <td>10485549</td>\n",
       "      <td>1</td>\n",
       "    </tr>\n",
       "    <tr>\n",
       "      <th>4</th>\n",
       "      <td>858679</td>\n",
       "      <td>53</td>\n",
       "      <td>17</td>\n",
       "      <td>137267</td>\n",
       "      <td>2</td>\n",
       "      <td>2</td>\n",
       "      <td>94</td>\n",
       "      <td>214</td>\n",
       "      <td>47</td>\n",
       "      <td>47</td>\n",
       "      <td>...</td>\n",
       "      <td>8</td>\n",
       "      <td>0.000000</td>\n",
       "      <td>0.000000</td>\n",
       "      <td>0</td>\n",
       "      <td>0</td>\n",
       "      <td>0.000000e+00</td>\n",
       "      <td>0.000000e+00</td>\n",
       "      <td>0</td>\n",
       "      <td>0</td>\n",
       "      <td>1</td>\n",
       "    </tr>\n",
       "    <tr>\n",
       "      <th>...</th>\n",
       "      <td>...</td>\n",
       "      <td>...</td>\n",
       "      <td>...</td>\n",
       "      <td>...</td>\n",
       "      <td>...</td>\n",
       "      <td>...</td>\n",
       "      <td>...</td>\n",
       "      <td>...</td>\n",
       "      <td>...</td>\n",
       "      <td>...</td>\n",
       "      <td>...</td>\n",
       "      <td>...</td>\n",
       "      <td>...</td>\n",
       "      <td>...</td>\n",
       "      <td>...</td>\n",
       "      <td>...</td>\n",
       "      <td>...</td>\n",
       "      <td>...</td>\n",
       "      <td>...</td>\n",
       "      <td>...</td>\n",
       "      <td>...</td>\n",
       "    </tr>\n",
       "    <tr>\n",
       "      <th>1252841</th>\n",
       "      <td>940974</td>\n",
       "      <td>64678</td>\n",
       "      <td>6</td>\n",
       "      <td>1397</td>\n",
       "      <td>5</td>\n",
       "      <td>2</td>\n",
       "      <td>935</td>\n",
       "      <td>267</td>\n",
       "      <td>935</td>\n",
       "      <td>0</td>\n",
       "      <td>...</td>\n",
       "      <td>20</td>\n",
       "      <td>0.000000</td>\n",
       "      <td>0.000000</td>\n",
       "      <td>0</td>\n",
       "      <td>0</td>\n",
       "      <td>0.000000e+00</td>\n",
       "      <td>0.000000e+00</td>\n",
       "      <td>0</td>\n",
       "      <td>0</td>\n",
       "      <td>1</td>\n",
       "    </tr>\n",
       "    <tr>\n",
       "      <th>1252842</th>\n",
       "      <td>45433</td>\n",
       "      <td>51274</td>\n",
       "      <td>6</td>\n",
       "      <td>1</td>\n",
       "      <td>3</td>\n",
       "      <td>0</td>\n",
       "      <td>77</td>\n",
       "      <td>0</td>\n",
       "      <td>46</td>\n",
       "      <td>0</td>\n",
       "      <td>...</td>\n",
       "      <td>20</td>\n",
       "      <td>0.000000</td>\n",
       "      <td>0.000000</td>\n",
       "      <td>0</td>\n",
       "      <td>0</td>\n",
       "      <td>0.000000e+00</td>\n",
       "      <td>0.000000e+00</td>\n",
       "      <td>0</td>\n",
       "      <td>0</td>\n",
       "      <td>1</td>\n",
       "    </tr>\n",
       "    <tr>\n",
       "      <th>1252843</th>\n",
       "      <td>912254</td>\n",
       "      <td>80</td>\n",
       "      <td>6</td>\n",
       "      <td>233</td>\n",
       "      <td>2</td>\n",
       "      <td>0</td>\n",
       "      <td>0</td>\n",
       "      <td>0</td>\n",
       "      <td>0</td>\n",
       "      <td>0</td>\n",
       "      <td>...</td>\n",
       "      <td>20</td>\n",
       "      <td>0.000000</td>\n",
       "      <td>0.000000</td>\n",
       "      <td>0</td>\n",
       "      <td>0</td>\n",
       "      <td>0.000000e+00</td>\n",
       "      <td>0.000000e+00</td>\n",
       "      <td>0</td>\n",
       "      <td>0</td>\n",
       "      <td>1</td>\n",
       "    </tr>\n",
       "    <tr>\n",
       "      <th>1252844</th>\n",
       "      <td>990683</td>\n",
       "      <td>53</td>\n",
       "      <td>17</td>\n",
       "      <td>23818</td>\n",
       "      <td>1</td>\n",
       "      <td>1</td>\n",
       "      <td>34</td>\n",
       "      <td>204</td>\n",
       "      <td>34</td>\n",
       "      <td>34</td>\n",
       "      <td>...</td>\n",
       "      <td>8</td>\n",
       "      <td>0.000000</td>\n",
       "      <td>0.000000</td>\n",
       "      <td>0</td>\n",
       "      <td>0</td>\n",
       "      <td>0.000000e+00</td>\n",
       "      <td>0.000000e+00</td>\n",
       "      <td>0</td>\n",
       "      <td>0</td>\n",
       "      <td>1</td>\n",
       "    </tr>\n",
       "    <tr>\n",
       "      <th>1252845</th>\n",
       "      <td>576130</td>\n",
       "      <td>80</td>\n",
       "      <td>6</td>\n",
       "      <td>70</td>\n",
       "      <td>2</td>\n",
       "      <td>0</td>\n",
       "      <td>0</td>\n",
       "      <td>0</td>\n",
       "      <td>0</td>\n",
       "      <td>0</td>\n",
       "      <td>...</td>\n",
       "      <td>20</td>\n",
       "      <td>0.000000</td>\n",
       "      <td>0.000000</td>\n",
       "      <td>0</td>\n",
       "      <td>0</td>\n",
       "      <td>0.000000e+00</td>\n",
       "      <td>0.000000e+00</td>\n",
       "      <td>0</td>\n",
       "      <td>0</td>\n",
       "      <td>1</td>\n",
       "    </tr>\n",
       "  </tbody>\n",
       "</table>\n",
       "<p>1252846 rows × 79 columns</p>\n",
       "</div>"
      ],
      "text/plain": [
       "         Unnamed: 0  Dst Port  Protocol  Flow Duration  Tot Fwd Pkts  \\\n",
       "0            146275      3389         6        5206015             9   \n",
       "1            512109       443         6       60991608            14   \n",
       "2            807703        53        17          27292             1   \n",
       "3            491912       443         6       70343424            17   \n",
       "4            858679        53        17         137267             2   \n",
       "...             ...       ...       ...            ...           ...   \n",
       "1252841      940974     64678         6           1397             5   \n",
       "1252842       45433     51274         6              1             3   \n",
       "1252843      912254        80         6            233             2   \n",
       "1252844      990683        53        17          23818             1   \n",
       "1252845      576130        80         6             70             2   \n",
       "\n",
       "         Tot Bwd Pkts  TotLen Fwd Pkts  TotLen Bwd Pkts  Fwd Pkt Len Max  \\\n",
       "0                  11             1213             1948              661   \n",
       "1                  14             1211             3396              875   \n",
       "2                   1               45              163               45   \n",
       "3                  20             1118             5653              258   \n",
       "4                   2               94              214               47   \n",
       "...               ...              ...              ...              ...   \n",
       "1252841             2              935              267              935   \n",
       "1252842             0               77                0               46   \n",
       "1252843             0                0                0                0   \n",
       "1252844             1               34              204               34   \n",
       "1252845             0                0                0                0   \n",
       "\n",
       "         Fwd Pkt Len Min  ...  Fwd Seg Size Min    Active Mean     Active Std  \\\n",
       "0                      0  ...                20       0.000000       0.000000   \n",
       "1                      0  ...                20  116504.666667  117401.762867   \n",
       "2                     45  ...                 8       0.000000       0.000000   \n",
       "3                      0  ...                20  527683.500000  386311.526445   \n",
       "4                     47  ...                 8       0.000000       0.000000   \n",
       "...                  ...  ...               ...            ...            ...   \n",
       "1252841                0  ...                20       0.000000       0.000000   \n",
       "1252842                0  ...                20       0.000000       0.000000   \n",
       "1252843                0  ...                20       0.000000       0.000000   \n",
       "1252844               34  ...                 8       0.000000       0.000000   \n",
       "1252845                0  ...                20       0.000000       0.000000   \n",
       "\n",
       "         Active Max  Active Min     Idle Mean      Idle Std  Idle Max  \\\n",
       "0                 0           0  0.000000e+00  0.000000e+00         0   \n",
       "1            356150       68519  1.000239e+07  1.665183e+04  10009249   \n",
       "2                 0           0  0.000000e+00  0.000000e+00         0   \n",
       "3            800847      254520  3.457024e+07  3.406089e+07  58654921   \n",
       "4                 0           0  0.000000e+00  0.000000e+00         0   \n",
       "...             ...         ...           ...           ...       ...   \n",
       "1252841           0           0  0.000000e+00  0.000000e+00         0   \n",
       "1252842           0           0  0.000000e+00  0.000000e+00         0   \n",
       "1252843           0           0  0.000000e+00  0.000000e+00         0   \n",
       "1252844           0           0  0.000000e+00  0.000000e+00         0   \n",
       "1252845           0           0  0.000000e+00  0.000000e+00         0   \n",
       "\n",
       "         Idle Min  Label  \n",
       "0               0      1  \n",
       "1         9968397      1  \n",
       "2               0      1  \n",
       "3        10485549      1  \n",
       "4               0      1  \n",
       "...           ...    ...  \n",
       "1252841         0      1  \n",
       "1252842         0      1  \n",
       "1252843         0      1  \n",
       "1252844         0      1  \n",
       "1252845         0      1  \n",
       "\n",
       "[1252846 rows x 79 columns]"
      ]
     },
     "execution_count": 3,
     "metadata": {},
     "output_type": "execute_result"
    }
   ],
   "source": [
    "df_dataset"
   ]
  },
  {
   "cell_type": "code",
   "execution_count": 4,
   "id": "7f9e308a",
   "metadata": {
    "execution": {
     "iopub.execute_input": "2024-10-13T09:48:20.054599Z",
     "iopub.status.busy": "2024-10-13T09:48:20.053696Z",
     "iopub.status.idle": "2024-10-13T09:48:20.213350Z",
     "shell.execute_reply": "2024-10-13T09:48:20.212345Z"
    },
    "papermill": {
     "duration": 0.173954,
     "end_time": "2024-10-13T09:48:20.215801",
     "exception": false,
     "start_time": "2024-10-13T09:48:20.041847",
     "status": "completed"
    },
    "tags": []
   },
   "outputs": [
    {
     "name": "stdout",
     "output_type": "stream",
     "text": [
      "<class 'pandas.core.frame.DataFrame'>\n",
      "RangeIndex: 1252846 entries, 0 to 1252845\n",
      "Data columns (total 79 columns):\n",
      " #   Column             Non-Null Count    Dtype  \n",
      "---  ------             --------------    -----  \n",
      " 0   Unnamed: 0         1252846 non-null  int64  \n",
      " 1   Dst Port           1252846 non-null  int64  \n",
      " 2   Protocol           1252846 non-null  int64  \n",
      " 3   Flow Duration      1252846 non-null  int64  \n",
      " 4   Tot Fwd Pkts       1252846 non-null  int64  \n",
      " 5   Tot Bwd Pkts       1252846 non-null  int64  \n",
      " 6   TotLen Fwd Pkts    1252846 non-null  int64  \n",
      " 7   TotLen Bwd Pkts    1252846 non-null  int64  \n",
      " 8   Fwd Pkt Len Max    1252846 non-null  int64  \n",
      " 9   Fwd Pkt Len Min    1252846 non-null  int64  \n",
      " 10  Fwd Pkt Len Mean   1252846 non-null  float64\n",
      " 11  Fwd Pkt Len Std    1252846 non-null  float64\n",
      " 12  Bwd Pkt Len Max    1252846 non-null  int64  \n",
      " 13  Bwd Pkt Len Min    1252846 non-null  int64  \n",
      " 14  Bwd Pkt Len Mean   1252846 non-null  float64\n",
      " 15  Bwd Pkt Len Std    1252846 non-null  float64\n",
      " 16  Flow Byts/s        1252846 non-null  float64\n",
      " 17  Flow Pkts/s        1252846 non-null  float64\n",
      " 18  Flow IAT Mean      1252846 non-null  float64\n",
      " 19  Flow IAT Std       1252846 non-null  float64\n",
      " 20  Flow IAT Max       1252846 non-null  int64  \n",
      " 21  Flow IAT Min       1252846 non-null  int64  \n",
      " 22  Fwd IAT Tot        1252846 non-null  int64  \n",
      " 23  Fwd IAT Mean       1252846 non-null  float64\n",
      " 24  Fwd IAT Std        1252846 non-null  float64\n",
      " 25  Fwd IAT Max        1252846 non-null  int64  \n",
      " 26  Fwd IAT Min        1252846 non-null  int64  \n",
      " 27  Bwd IAT Tot        1252846 non-null  int64  \n",
      " 28  Bwd IAT Mean       1252846 non-null  float64\n",
      " 29  Bwd IAT Std        1252846 non-null  float64\n",
      " 30  Bwd IAT Max        1252846 non-null  int64  \n",
      " 31  Bwd IAT Min        1252846 non-null  int64  \n",
      " 32  Fwd PSH Flags      1252846 non-null  int64  \n",
      " 33  Bwd PSH Flags      1252846 non-null  int64  \n",
      " 34  Fwd URG Flags      1252846 non-null  int64  \n",
      " 35  Bwd URG Flags      1252846 non-null  int64  \n",
      " 36  Fwd Header Len     1252846 non-null  int64  \n",
      " 37  Bwd Header Len     1252846 non-null  int64  \n",
      " 38  Fwd Pkts/s         1252846 non-null  float64\n",
      " 39  Bwd Pkts/s         1252846 non-null  float64\n",
      " 40  Pkt Len Min        1252846 non-null  int64  \n",
      " 41  Pkt Len Max        1252846 non-null  int64  \n",
      " 42  Pkt Len Mean       1252846 non-null  float64\n",
      " 43  Pkt Len Std        1252846 non-null  float64\n",
      " 44  Pkt Len Var        1252846 non-null  float64\n",
      " 45  FIN Flag Cnt       1252846 non-null  int64  \n",
      " 46  SYN Flag Cnt       1252846 non-null  int64  \n",
      " 47  RST Flag Cnt       1252846 non-null  int64  \n",
      " 48  PSH Flag Cnt       1252846 non-null  int64  \n",
      " 49  ACK Flag Cnt       1252846 non-null  int64  \n",
      " 50  URG Flag Cnt       1252846 non-null  int64  \n",
      " 51  CWE Flag Count     1252846 non-null  int64  \n",
      " 52  ECE Flag Cnt       1252846 non-null  int64  \n",
      " 53  Pkt Size Avg       1252846 non-null  float64\n",
      " 54  Fwd Seg Size Avg   1252846 non-null  float64\n",
      " 55  Bwd Seg Size Avg   1252846 non-null  float64\n",
      " 56  Fwd Byts/b Avg     1252846 non-null  int64  \n",
      " 57  Fwd Pkts/b Avg     1252846 non-null  int64  \n",
      " 58  Fwd Blk Rate Avg   1252846 non-null  int64  \n",
      " 59  Bwd Byts/b Avg     1252846 non-null  int64  \n",
      " 60  Bwd Pkts/b Avg     1252846 non-null  int64  \n",
      " 61  Bwd Blk Rate Avg   1252846 non-null  int64  \n",
      " 62  Subflow Fwd Pkts   1252846 non-null  int64  \n",
      " 63  Subflow Fwd Byts   1252846 non-null  int64  \n",
      " 64  Subflow Bwd Pkts   1252846 non-null  int64  \n",
      " 65  Subflow Bwd Byts   1252846 non-null  int64  \n",
      " 66  Init Fwd Win Byts  1252846 non-null  int64  \n",
      " 67  Init Bwd Win Byts  1252846 non-null  int64  \n",
      " 68  Fwd Act Data Pkts  1252846 non-null  int64  \n",
      " 69  Fwd Seg Size Min   1252846 non-null  int64  \n",
      " 70  Active Mean        1252846 non-null  float64\n",
      " 71  Active Std         1252846 non-null  float64\n",
      " 72  Active Max         1252846 non-null  int64  \n",
      " 73  Active Min         1252846 non-null  int64  \n",
      " 74  Idle Mean          1252846 non-null  float64\n",
      " 75  Idle Std           1252846 non-null  float64\n",
      " 76  Idle Max           1252846 non-null  int64  \n",
      " 77  Idle Min           1252846 non-null  int64  \n",
      " 78  Label              1252846 non-null  int64  \n",
      "dtypes: float64(24), int64(55)\n",
      "memory usage: 755.1 MB\n"
     ]
    }
   ],
   "source": [
    "df_dataset.info()"
   ]
  },
  {
   "cell_type": "markdown",
   "id": "5adee612",
   "metadata": {
    "papermill": {
     "duration": 0.010437,
     "end_time": "2024-10-13T09:48:20.237184",
     "exception": false,
     "start_time": "2024-10-13T09:48:20.226747",
     "status": "completed"
    },
    "tags": []
   },
   "source": [
    "# Taking care of missing data, Removing duplicates"
   ]
  },
  {
   "cell_type": "code",
   "execution_count": 5,
   "id": "3a01f985",
   "metadata": {
    "execution": {
     "iopub.execute_input": "2024-10-13T09:48:20.260208Z",
     "iopub.status.busy": "2024-10-13T09:48:20.259786Z",
     "iopub.status.idle": "2024-10-13T09:48:20.385740Z",
     "shell.execute_reply": "2024-10-13T09:48:20.384808Z"
    },
    "papermill": {
     "duration": 0.140699,
     "end_time": "2024-10-13T09:48:20.388522",
     "exception": false,
     "start_time": "2024-10-13T09:48:20.247823",
     "status": "completed"
    },
    "tags": []
   },
   "outputs": [],
   "source": [
    "# replace +ve and -ve infinity with NaN\n",
    "df_dataset.replace([np.inf, -np.inf], np.nan, inplace=True)"
   ]
  },
  {
   "cell_type": "code",
   "execution_count": 6,
   "id": "aa53792e",
   "metadata": {
    "execution": {
     "iopub.execute_input": "2024-10-13T09:48:20.412260Z",
     "iopub.status.busy": "2024-10-13T09:48:20.411677Z",
     "iopub.status.idle": "2024-10-13T09:48:20.820157Z",
     "shell.execute_reply": "2024-10-13T09:48:20.819003Z"
    },
    "papermill": {
     "duration": 0.423551,
     "end_time": "2024-10-13T09:48:20.823080",
     "exception": false,
     "start_time": "2024-10-13T09:48:20.399529",
     "status": "completed"
    },
    "tags": []
   },
   "outputs": [],
   "source": [
    "# drop missing values\n",
    "df_dataset.dropna(inplace=True)"
   ]
  },
  {
   "cell_type": "code",
   "execution_count": 7,
   "id": "272a8f2d",
   "metadata": {
    "execution": {
     "iopub.execute_input": "2024-10-13T09:48:20.846639Z",
     "iopub.status.busy": "2024-10-13T09:48:20.846255Z",
     "iopub.status.idle": "2024-10-13T09:48:25.879103Z",
     "shell.execute_reply": "2024-10-13T09:48:25.877726Z"
    },
    "papermill": {
     "duration": 5.047389,
     "end_time": "2024-10-13T09:48:25.881593",
     "exception": false,
     "start_time": "2024-10-13T09:48:20.834204",
     "status": "completed"
    },
    "tags": []
   },
   "outputs": [
    {
     "name": "stdout",
     "output_type": "stream",
     "text": [
      "117437\n"
     ]
    }
   ],
   "source": [
    "print(df_dataset.duplicated().sum())"
   ]
  },
  {
   "cell_type": "code",
   "execution_count": 8,
   "id": "7586d7a5",
   "metadata": {
    "execution": {
     "iopub.execute_input": "2024-10-13T09:48:25.905416Z",
     "iopub.status.busy": "2024-10-13T09:48:25.905019Z",
     "iopub.status.idle": "2024-10-13T09:48:31.435917Z",
     "shell.execute_reply": "2024-10-13T09:48:31.434829Z"
    },
    "papermill": {
     "duration": 5.54579,
     "end_time": "2024-10-13T09:48:31.438526",
     "exception": false,
     "start_time": "2024-10-13T09:48:25.892736",
     "status": "completed"
    },
    "tags": []
   },
   "outputs": [],
   "source": [
    "df_dataset.drop_duplicates(inplace = True)"
   ]
  },
  {
   "cell_type": "code",
   "execution_count": 9,
   "id": "9a6d5925",
   "metadata": {
    "execution": {
     "iopub.execute_input": "2024-10-13T09:48:31.463882Z",
     "iopub.status.busy": "2024-10-13T09:48:31.463483Z",
     "iopub.status.idle": "2024-10-13T09:48:35.958451Z",
     "shell.execute_reply": "2024-10-13T09:48:35.957275Z"
    },
    "papermill": {
     "duration": 4.50976,
     "end_time": "2024-10-13T09:48:35.960614",
     "exception": false,
     "start_time": "2024-10-13T09:48:31.450854",
     "status": "completed"
    },
    "tags": []
   },
   "outputs": [
    {
     "name": "stdout",
     "output_type": "stream",
     "text": [
      "0\n"
     ]
    }
   ],
   "source": [
    "print(df_dataset.duplicated().sum())"
   ]
  },
  {
   "cell_type": "markdown",
   "id": "b786b3db",
   "metadata": {
    "papermill": {
     "duration": 0.010614,
     "end_time": "2024-10-13T09:48:35.982302",
     "exception": false,
     "start_time": "2024-10-13T09:48:35.971688",
     "status": "completed"
    },
    "tags": []
   },
   "source": [
    "# Implementing binary classification"
   ]
  },
  {
   "cell_type": "code",
   "execution_count": 10,
   "id": "7bf8da90",
   "metadata": {
    "execution": {
     "iopub.execute_input": "2024-10-13T09:48:36.005521Z",
     "iopub.status.busy": "2024-10-13T09:48:36.005102Z",
     "iopub.status.idle": "2024-10-13T09:48:36.024283Z",
     "shell.execute_reply": "2024-10-13T09:48:36.023257Z"
    },
    "papermill": {
     "duration": 0.033349,
     "end_time": "2024-10-13T09:48:36.026470",
     "exception": false,
     "start_time": "2024-10-13T09:48:35.993121",
     "status": "completed"
    },
    "tags": []
   },
   "outputs": [
    {
     "data": {
      "text/plain": [
       "1     880060\n",
       "4     124280\n",
       "5      52051\n",
       "2      35127\n",
       "3      33817\n",
       "6       7598\n",
       "7       2028\n",
       "8        301\n",
       "9         91\n",
       "10        46\n",
       "11        10\n",
       "Name: Label, dtype: int64"
      ]
     },
     "execution_count": 10,
     "metadata": {},
     "output_type": "execute_result"
    }
   ],
   "source": [
    "df_dataset[\"Label\"].value_counts()"
   ]
  },
  {
   "cell_type": "code",
   "execution_count": 11,
   "id": "c744dbf8",
   "metadata": {
    "execution": {
     "iopub.execute_input": "2024-10-13T09:48:36.049716Z",
     "iopub.status.busy": "2024-10-13T09:48:36.049345Z",
     "iopub.status.idle": "2024-10-13T09:48:36.251977Z",
     "shell.execute_reply": "2024-10-13T09:48:36.250859Z"
    },
    "papermill": {
     "duration": 0.217129,
     "end_time": "2024-10-13T09:48:36.254428",
     "exception": false,
     "start_time": "2024-10-13T09:48:36.037299",
     "status": "completed"
    },
    "tags": []
   },
   "outputs": [],
   "source": [
    "old_value = 1\n",
    "new_value = 0\n",
    "df_dataset['Label'] = df_dataset['Label'].replace(old_value, new_value)"
   ]
  },
  {
   "cell_type": "code",
   "execution_count": 12,
   "id": "7c4c899e",
   "metadata": {
    "execution": {
     "iopub.execute_input": "2024-10-13T09:48:36.278805Z",
     "iopub.status.busy": "2024-10-13T09:48:36.277858Z",
     "iopub.status.idle": "2024-10-13T09:48:36.337302Z",
     "shell.execute_reply": "2024-10-13T09:48:36.336376Z"
    },
    "papermill": {
     "duration": 0.074029,
     "end_time": "2024-10-13T09:48:36.339821",
     "exception": false,
     "start_time": "2024-10-13T09:48:36.265792",
     "status": "completed"
    },
    "tags": []
   },
   "outputs": [],
   "source": [
    "for i in range(2, 12):\n",
    "    old_value = i\n",
    "    new_value = 1\n",
    "    df_dataset['Label'] = df_dataset['Label'].replace(old_value, new_value)"
   ]
  },
  {
   "cell_type": "code",
   "execution_count": 13,
   "id": "682c0e9a",
   "metadata": {
    "execution": {
     "iopub.execute_input": "2024-10-13T09:48:36.364195Z",
     "iopub.status.busy": "2024-10-13T09:48:36.363273Z",
     "iopub.status.idle": "2024-10-13T09:48:36.381869Z",
     "shell.execute_reply": "2024-10-13T09:48:36.380856Z"
    },
    "papermill": {
     "duration": 0.032639,
     "end_time": "2024-10-13T09:48:36.383856",
     "exception": false,
     "start_time": "2024-10-13T09:48:36.351217",
     "status": "completed"
    },
    "tags": []
   },
   "outputs": [
    {
     "data": {
      "text/plain": [
       "0    880060\n",
       "1    255349\n",
       "Name: Label, dtype: int64"
      ]
     },
     "execution_count": 13,
     "metadata": {},
     "output_type": "execute_result"
    }
   ],
   "source": [
    "df_dataset[\"Label\"].value_counts()"
   ]
  },
  {
   "cell_type": "markdown",
   "id": "cc740daa",
   "metadata": {
    "papermill": {
     "duration": 0.010967,
     "end_time": "2024-10-13T09:48:36.405815",
     "exception": false,
     "start_time": "2024-10-13T09:48:36.394848",
     "status": "completed"
    },
    "tags": []
   },
   "source": [
    "# Balancing the data (Undersampling)"
   ]
  },
  {
   "cell_type": "code",
   "execution_count": 14,
   "id": "a63e3c33",
   "metadata": {
    "execution": {
     "iopub.execute_input": "2024-10-13T09:48:36.429901Z",
     "iopub.status.busy": "2024-10-13T09:48:36.429528Z",
     "iopub.status.idle": "2024-10-13T09:48:39.808051Z",
     "shell.execute_reply": "2024-10-13T09:48:39.807002Z"
    },
    "papermill": {
     "duration": 3.393458,
     "end_time": "2024-10-13T09:48:39.810484",
     "exception": false,
     "start_time": "2024-10-13T09:48:36.417026",
     "status": "completed"
    },
    "tags": []
   },
   "outputs": [
    {
     "name": "stderr",
     "output_type": "stream",
     "text": [
      "/opt/conda/lib/python3.10/site-packages/scipy/__init__.py:146: UserWarning: A NumPy version >=1.16.5 and <1.23.0 is required for this version of SciPy (detected version 1.23.5\n",
      "  warnings.warn(f\"A NumPy version >={np_minversion} and <{np_maxversion}\"\n"
     ]
    },
    {
     "data": {
      "text/html": [
       "        <script type=\"text/javascript\">\n",
       "        window.PlotlyConfig = {MathJaxConfig: 'local'};\n",
       "        if (window.MathJax && window.MathJax.Hub && window.MathJax.Hub.Config) {window.MathJax.Hub.Config({SVG: {font: \"STIX-Web\"}});}\n",
       "        if (typeof require !== 'undefined') {\n",
       "        require.undef(\"plotly\");\n",
       "        requirejs.config({\n",
       "            paths: {\n",
       "                'plotly': ['https://cdn.plot.ly/plotly-2.20.0.min']\n",
       "            }\n",
       "        });\n",
       "        require(['plotly'], function(Plotly) {\n",
       "            window._Plotly = Plotly;\n",
       "        });\n",
       "        }\n",
       "        </script>\n",
       "        "
      ]
     },
     "metadata": {},
     "output_type": "display_data"
    },
    {
     "data": {
      "application/vnd.plotly.v1+json": {
       "config": {
        "linkText": "Export to plot.ly",
        "plotlyServerURL": "https://plot.ly",
        "showLink": false
       },
       "data": [
        {
         "name": "Benign",
         "orientation": "v",
         "text": [
          880060.0
         ],
         "textposition": "outside",
         "type": "bar",
         "x": [
          "Benign"
         ],
         "y": [
          880060
         ]
        },
        {
         "name": "Malicious",
         "orientation": "v",
         "text": [
          255349.0
         ],
         "textposition": "outside",
         "type": "bar",
         "x": [
          "Malicious"
         ],
         "y": [
          255349
         ]
        }
       ],
       "layout": {
        "height": 600,
        "template": {
         "data": {
          "bar": [
           {
            "error_x": {
             "color": "#2a3f5f"
            },
            "error_y": {
             "color": "#2a3f5f"
            },
            "marker": {
             "line": {
              "color": "#E5ECF6",
              "width": 0.5
             },
             "pattern": {
              "fillmode": "overlay",
              "size": 10,
              "solidity": 0.2
             }
            },
            "type": "bar"
           }
          ],
          "barpolar": [
           {
            "marker": {
             "line": {
              "color": "#E5ECF6",
              "width": 0.5
             },
             "pattern": {
              "fillmode": "overlay",
              "size": 10,
              "solidity": 0.2
             }
            },
            "type": "barpolar"
           }
          ],
          "carpet": [
           {
            "aaxis": {
             "endlinecolor": "#2a3f5f",
             "gridcolor": "white",
             "linecolor": "white",
             "minorgridcolor": "white",
             "startlinecolor": "#2a3f5f"
            },
            "baxis": {
             "endlinecolor": "#2a3f5f",
             "gridcolor": "white",
             "linecolor": "white",
             "minorgridcolor": "white",
             "startlinecolor": "#2a3f5f"
            },
            "type": "carpet"
           }
          ],
          "choropleth": [
           {
            "colorbar": {
             "outlinewidth": 0,
             "ticks": ""
            },
            "type": "choropleth"
           }
          ],
          "contour": [
           {
            "colorbar": {
             "outlinewidth": 0,
             "ticks": ""
            },
            "colorscale": [
             [
              0.0,
              "#0d0887"
             ],
             [
              0.1111111111111111,
              "#46039f"
             ],
             [
              0.2222222222222222,
              "#7201a8"
             ],
             [
              0.3333333333333333,
              "#9c179e"
             ],
             [
              0.4444444444444444,
              "#bd3786"
             ],
             [
              0.5555555555555556,
              "#d8576b"
             ],
             [
              0.6666666666666666,
              "#ed7953"
             ],
             [
              0.7777777777777778,
              "#fb9f3a"
             ],
             [
              0.8888888888888888,
              "#fdca26"
             ],
             [
              1.0,
              "#f0f921"
             ]
            ],
            "type": "contour"
           }
          ],
          "contourcarpet": [
           {
            "colorbar": {
             "outlinewidth": 0,
             "ticks": ""
            },
            "type": "contourcarpet"
           }
          ],
          "heatmap": [
           {
            "colorbar": {
             "outlinewidth": 0,
             "ticks": ""
            },
            "colorscale": [
             [
              0.0,
              "#0d0887"
             ],
             [
              0.1111111111111111,
              "#46039f"
             ],
             [
              0.2222222222222222,
              "#7201a8"
             ],
             [
              0.3333333333333333,
              "#9c179e"
             ],
             [
              0.4444444444444444,
              "#bd3786"
             ],
             [
              0.5555555555555556,
              "#d8576b"
             ],
             [
              0.6666666666666666,
              "#ed7953"
             ],
             [
              0.7777777777777778,
              "#fb9f3a"
             ],
             [
              0.8888888888888888,
              "#fdca26"
             ],
             [
              1.0,
              "#f0f921"
             ]
            ],
            "type": "heatmap"
           }
          ],
          "heatmapgl": [
           {
            "colorbar": {
             "outlinewidth": 0,
             "ticks": ""
            },
            "colorscale": [
             [
              0.0,
              "#0d0887"
             ],
             [
              0.1111111111111111,
              "#46039f"
             ],
             [
              0.2222222222222222,
              "#7201a8"
             ],
             [
              0.3333333333333333,
              "#9c179e"
             ],
             [
              0.4444444444444444,
              "#bd3786"
             ],
             [
              0.5555555555555556,
              "#d8576b"
             ],
             [
              0.6666666666666666,
              "#ed7953"
             ],
             [
              0.7777777777777778,
              "#fb9f3a"
             ],
             [
              0.8888888888888888,
              "#fdca26"
             ],
             [
              1.0,
              "#f0f921"
             ]
            ],
            "type": "heatmapgl"
           }
          ],
          "histogram": [
           {
            "marker": {
             "pattern": {
              "fillmode": "overlay",
              "size": 10,
              "solidity": 0.2
             }
            },
            "type": "histogram"
           }
          ],
          "histogram2d": [
           {
            "colorbar": {
             "outlinewidth": 0,
             "ticks": ""
            },
            "colorscale": [
             [
              0.0,
              "#0d0887"
             ],
             [
              0.1111111111111111,
              "#46039f"
             ],
             [
              0.2222222222222222,
              "#7201a8"
             ],
             [
              0.3333333333333333,
              "#9c179e"
             ],
             [
              0.4444444444444444,
              "#bd3786"
             ],
             [
              0.5555555555555556,
              "#d8576b"
             ],
             [
              0.6666666666666666,
              "#ed7953"
             ],
             [
              0.7777777777777778,
              "#fb9f3a"
             ],
             [
              0.8888888888888888,
              "#fdca26"
             ],
             [
              1.0,
              "#f0f921"
             ]
            ],
            "type": "histogram2d"
           }
          ],
          "histogram2dcontour": [
           {
            "colorbar": {
             "outlinewidth": 0,
             "ticks": ""
            },
            "colorscale": [
             [
              0.0,
              "#0d0887"
             ],
             [
              0.1111111111111111,
              "#46039f"
             ],
             [
              0.2222222222222222,
              "#7201a8"
             ],
             [
              0.3333333333333333,
              "#9c179e"
             ],
             [
              0.4444444444444444,
              "#bd3786"
             ],
             [
              0.5555555555555556,
              "#d8576b"
             ],
             [
              0.6666666666666666,
              "#ed7953"
             ],
             [
              0.7777777777777778,
              "#fb9f3a"
             ],
             [
              0.8888888888888888,
              "#fdca26"
             ],
             [
              1.0,
              "#f0f921"
             ]
            ],
            "type": "histogram2dcontour"
           }
          ],
          "mesh3d": [
           {
            "colorbar": {
             "outlinewidth": 0,
             "ticks": ""
            },
            "type": "mesh3d"
           }
          ],
          "parcoords": [
           {
            "line": {
             "colorbar": {
              "outlinewidth": 0,
              "ticks": ""
             }
            },
            "type": "parcoords"
           }
          ],
          "pie": [
           {
            "automargin": true,
            "type": "pie"
           }
          ],
          "scatter": [
           {
            "fillpattern": {
             "fillmode": "overlay",
             "size": 10,
             "solidity": 0.2
            },
            "type": "scatter"
           }
          ],
          "scatter3d": [
           {
            "line": {
             "colorbar": {
              "outlinewidth": 0,
              "ticks": ""
             }
            },
            "marker": {
             "colorbar": {
              "outlinewidth": 0,
              "ticks": ""
             }
            },
            "type": "scatter3d"
           }
          ],
          "scattercarpet": [
           {
            "marker": {
             "colorbar": {
              "outlinewidth": 0,
              "ticks": ""
             }
            },
            "type": "scattercarpet"
           }
          ],
          "scattergeo": [
           {
            "marker": {
             "colorbar": {
              "outlinewidth": 0,
              "ticks": ""
             }
            },
            "type": "scattergeo"
           }
          ],
          "scattergl": [
           {
            "marker": {
             "colorbar": {
              "outlinewidth": 0,
              "ticks": ""
             }
            },
            "type": "scattergl"
           }
          ],
          "scattermapbox": [
           {
            "marker": {
             "colorbar": {
              "outlinewidth": 0,
              "ticks": ""
             }
            },
            "type": "scattermapbox"
           }
          ],
          "scatterpolar": [
           {
            "marker": {
             "colorbar": {
              "outlinewidth": 0,
              "ticks": ""
             }
            },
            "type": "scatterpolar"
           }
          ],
          "scatterpolargl": [
           {
            "marker": {
             "colorbar": {
              "outlinewidth": 0,
              "ticks": ""
             }
            },
            "type": "scatterpolargl"
           }
          ],
          "scatterternary": [
           {
            "marker": {
             "colorbar": {
              "outlinewidth": 0,
              "ticks": ""
             }
            },
            "type": "scatterternary"
           }
          ],
          "surface": [
           {
            "colorbar": {
             "outlinewidth": 0,
             "ticks": ""
            },
            "colorscale": [
             [
              0.0,
              "#0d0887"
             ],
             [
              0.1111111111111111,
              "#46039f"
             ],
             [
              0.2222222222222222,
              "#7201a8"
             ],
             [
              0.3333333333333333,
              "#9c179e"
             ],
             [
              0.4444444444444444,
              "#bd3786"
             ],
             [
              0.5555555555555556,
              "#d8576b"
             ],
             [
              0.6666666666666666,
              "#ed7953"
             ],
             [
              0.7777777777777778,
              "#fb9f3a"
             ],
             [
              0.8888888888888888,
              "#fdca26"
             ],
             [
              1.0,
              "#f0f921"
             ]
            ],
            "type": "surface"
           }
          ],
          "table": [
           {
            "cells": {
             "fill": {
              "color": "#EBF0F8"
             },
             "line": {
              "color": "white"
             }
            },
            "header": {
             "fill": {
              "color": "#C8D4E3"
             },
             "line": {
              "color": "white"
             }
            },
            "type": "table"
           }
          ]
         },
         "layout": {
          "annotationdefaults": {
           "arrowcolor": "#2a3f5f",
           "arrowhead": 0,
           "arrowwidth": 1
          },
          "autotypenumbers": "strict",
          "coloraxis": {
           "colorbar": {
            "outlinewidth": 0,
            "ticks": ""
           }
          },
          "colorscale": {
           "diverging": [
            [
             0,
             "#8e0152"
            ],
            [
             0.1,
             "#c51b7d"
            ],
            [
             0.2,
             "#de77ae"
            ],
            [
             0.3,
             "#f1b6da"
            ],
            [
             0.4,
             "#fde0ef"
            ],
            [
             0.5,
             "#f7f7f7"
            ],
            [
             0.6,
             "#e6f5d0"
            ],
            [
             0.7,
             "#b8e186"
            ],
            [
             0.8,
             "#7fbc41"
            ],
            [
             0.9,
             "#4d9221"
            ],
            [
             1,
             "#276419"
            ]
           ],
           "sequential": [
            [
             0.0,
             "#0d0887"
            ],
            [
             0.1111111111111111,
             "#46039f"
            ],
            [
             0.2222222222222222,
             "#7201a8"
            ],
            [
             0.3333333333333333,
             "#9c179e"
            ],
            [
             0.4444444444444444,
             "#bd3786"
            ],
            [
             0.5555555555555556,
             "#d8576b"
            ],
            [
             0.6666666666666666,
             "#ed7953"
            ],
            [
             0.7777777777777778,
             "#fb9f3a"
            ],
            [
             0.8888888888888888,
             "#fdca26"
            ],
            [
             1.0,
             "#f0f921"
            ]
           ],
           "sequentialminus": [
            [
             0.0,
             "#0d0887"
            ],
            [
             0.1111111111111111,
             "#46039f"
            ],
            [
             0.2222222222222222,
             "#7201a8"
            ],
            [
             0.3333333333333333,
             "#9c179e"
            ],
            [
             0.4444444444444444,
             "#bd3786"
            ],
            [
             0.5555555555555556,
             "#d8576b"
            ],
            [
             0.6666666666666666,
             "#ed7953"
            ],
            [
             0.7777777777777778,
             "#fb9f3a"
            ],
            [
             0.8888888888888888,
             "#fdca26"
            ],
            [
             1.0,
             "#f0f921"
            ]
           ]
          },
          "colorway": [
           "#636efa",
           "#EF553B",
           "#00cc96",
           "#ab63fa",
           "#FFA15A",
           "#19d3f3",
           "#FF6692",
           "#B6E880",
           "#FF97FF",
           "#FECB52"
          ],
          "font": {
           "color": "#2a3f5f"
          },
          "geo": {
           "bgcolor": "white",
           "lakecolor": "white",
           "landcolor": "#E5ECF6",
           "showlakes": true,
           "showland": true,
           "subunitcolor": "white"
          },
          "hoverlabel": {
           "align": "left"
          },
          "hovermode": "closest",
          "mapbox": {
           "style": "light"
          },
          "paper_bgcolor": "white",
          "plot_bgcolor": "#E5ECF6",
          "polar": {
           "angularaxis": {
            "gridcolor": "white",
            "linecolor": "white",
            "ticks": ""
           },
           "bgcolor": "#E5ECF6",
           "radialaxis": {
            "gridcolor": "white",
            "linecolor": "white",
            "ticks": ""
           }
          },
          "scene": {
           "xaxis": {
            "backgroundcolor": "#E5ECF6",
            "gridcolor": "white",
            "gridwidth": 2,
            "linecolor": "white",
            "showbackground": true,
            "ticks": "",
            "zerolinecolor": "white"
           },
           "yaxis": {
            "backgroundcolor": "#E5ECF6",
            "gridcolor": "white",
            "gridwidth": 2,
            "linecolor": "white",
            "showbackground": true,
            "ticks": "",
            "zerolinecolor": "white"
           },
           "zaxis": {
            "backgroundcolor": "#E5ECF6",
            "gridcolor": "white",
            "gridwidth": 2,
            "linecolor": "white",
            "showbackground": true,
            "ticks": "",
            "zerolinecolor": "white"
           }
          },
          "shapedefaults": {
           "line": {
            "color": "#2a3f5f"
           }
          },
          "ternary": {
           "aaxis": {
            "gridcolor": "white",
            "linecolor": "white",
            "ticks": ""
           },
           "baxis": {
            "gridcolor": "white",
            "linecolor": "white",
            "ticks": ""
           },
           "bgcolor": "#E5ECF6",
           "caxis": {
            "gridcolor": "white",
            "linecolor": "white",
            "ticks": ""
           }
          },
          "title": {
           "x": 0.05
          },
          "xaxis": {
           "automargin": true,
           "gridcolor": "white",
           "linecolor": "white",
           "ticks": "",
           "title": {
            "standoff": 15
           },
           "zerolinecolor": "white",
           "zerolinewidth": 2
          },
          "yaxis": {
           "automargin": true,
           "gridcolor": "white",
           "linecolor": "white",
           "ticks": "",
           "title": {
            "standoff": 15
           },
           "zerolinecolor": "white",
           "zerolinewidth": 2
          }
         }
        },
        "title": {
         "text": "Class Distribution"
        },
        "width": 800,
        "xaxis": {
         "title": {
          "text": "Attack Name"
         }
        },
        "yaxis": {
         "title": {
          "text": "Number of attacks"
         }
        }
       }
      },
      "text/html": [
       "<div>                            <div id=\"490365a9-0c0e-42be-b6d2-30c3a97d3afc\" class=\"plotly-graph-div\" style=\"height:600px; width:800px;\"></div>            <script type=\"text/javascript\">                require([\"plotly\"], function(Plotly) {                    window.PLOTLYENV=window.PLOTLYENV || {};                                    if (document.getElementById(\"490365a9-0c0e-42be-b6d2-30c3a97d3afc\")) {                    Plotly.newPlot(                        \"490365a9-0c0e-42be-b6d2-30c3a97d3afc\",                        [{\"name\":\"Benign\",\"orientation\":\"v\",\"text\":[880060.0],\"textposition\":\"outside\",\"x\":[\"Benign\"],\"y\":[880060],\"type\":\"bar\"},{\"name\":\"Malicious\",\"orientation\":\"v\",\"text\":[255349.0],\"textposition\":\"outside\",\"x\":[\"Malicious\"],\"y\":[255349],\"type\":\"bar\"}],                        {\"height\":600,\"template\":{\"data\":{\"barpolar\":[{\"marker\":{\"line\":{\"color\":\"#E5ECF6\",\"width\":0.5},\"pattern\":{\"fillmode\":\"overlay\",\"size\":10,\"solidity\":0.2}},\"type\":\"barpolar\"}],\"bar\":[{\"error_x\":{\"color\":\"#2a3f5f\"},\"error_y\":{\"color\":\"#2a3f5f\"},\"marker\":{\"line\":{\"color\":\"#E5ECF6\",\"width\":0.5},\"pattern\":{\"fillmode\":\"overlay\",\"size\":10,\"solidity\":0.2}},\"type\":\"bar\"}],\"carpet\":[{\"aaxis\":{\"endlinecolor\":\"#2a3f5f\",\"gridcolor\":\"white\",\"linecolor\":\"white\",\"minorgridcolor\":\"white\",\"startlinecolor\":\"#2a3f5f\"},\"baxis\":{\"endlinecolor\":\"#2a3f5f\",\"gridcolor\":\"white\",\"linecolor\":\"white\",\"minorgridcolor\":\"white\",\"startlinecolor\":\"#2a3f5f\"},\"type\":\"carpet\"}],\"choropleth\":[{\"colorbar\":{\"outlinewidth\":0,\"ticks\":\"\"},\"type\":\"choropleth\"}],\"contourcarpet\":[{\"colorbar\":{\"outlinewidth\":0,\"ticks\":\"\"},\"type\":\"contourcarpet\"}],\"contour\":[{\"colorbar\":{\"outlinewidth\":0,\"ticks\":\"\"},\"colorscale\":[[0.0,\"#0d0887\"],[0.1111111111111111,\"#46039f\"],[0.2222222222222222,\"#7201a8\"],[0.3333333333333333,\"#9c179e\"],[0.4444444444444444,\"#bd3786\"],[0.5555555555555556,\"#d8576b\"],[0.6666666666666666,\"#ed7953\"],[0.7777777777777778,\"#fb9f3a\"],[0.8888888888888888,\"#fdca26\"],[1.0,\"#f0f921\"]],\"type\":\"contour\"}],\"heatmapgl\":[{\"colorbar\":{\"outlinewidth\":0,\"ticks\":\"\"},\"colorscale\":[[0.0,\"#0d0887\"],[0.1111111111111111,\"#46039f\"],[0.2222222222222222,\"#7201a8\"],[0.3333333333333333,\"#9c179e\"],[0.4444444444444444,\"#bd3786\"],[0.5555555555555556,\"#d8576b\"],[0.6666666666666666,\"#ed7953\"],[0.7777777777777778,\"#fb9f3a\"],[0.8888888888888888,\"#fdca26\"],[1.0,\"#f0f921\"]],\"type\":\"heatmapgl\"}],\"heatmap\":[{\"colorbar\":{\"outlinewidth\":0,\"ticks\":\"\"},\"colorscale\":[[0.0,\"#0d0887\"],[0.1111111111111111,\"#46039f\"],[0.2222222222222222,\"#7201a8\"],[0.3333333333333333,\"#9c179e\"],[0.4444444444444444,\"#bd3786\"],[0.5555555555555556,\"#d8576b\"],[0.6666666666666666,\"#ed7953\"],[0.7777777777777778,\"#fb9f3a\"],[0.8888888888888888,\"#fdca26\"],[1.0,\"#f0f921\"]],\"type\":\"heatmap\"}],\"histogram2dcontour\":[{\"colorbar\":{\"outlinewidth\":0,\"ticks\":\"\"},\"colorscale\":[[0.0,\"#0d0887\"],[0.1111111111111111,\"#46039f\"],[0.2222222222222222,\"#7201a8\"],[0.3333333333333333,\"#9c179e\"],[0.4444444444444444,\"#bd3786\"],[0.5555555555555556,\"#d8576b\"],[0.6666666666666666,\"#ed7953\"],[0.7777777777777778,\"#fb9f3a\"],[0.8888888888888888,\"#fdca26\"],[1.0,\"#f0f921\"]],\"type\":\"histogram2dcontour\"}],\"histogram2d\":[{\"colorbar\":{\"outlinewidth\":0,\"ticks\":\"\"},\"colorscale\":[[0.0,\"#0d0887\"],[0.1111111111111111,\"#46039f\"],[0.2222222222222222,\"#7201a8\"],[0.3333333333333333,\"#9c179e\"],[0.4444444444444444,\"#bd3786\"],[0.5555555555555556,\"#d8576b\"],[0.6666666666666666,\"#ed7953\"],[0.7777777777777778,\"#fb9f3a\"],[0.8888888888888888,\"#fdca26\"],[1.0,\"#f0f921\"]],\"type\":\"histogram2d\"}],\"histogram\":[{\"marker\":{\"pattern\":{\"fillmode\":\"overlay\",\"size\":10,\"solidity\":0.2}},\"type\":\"histogram\"}],\"mesh3d\":[{\"colorbar\":{\"outlinewidth\":0,\"ticks\":\"\"},\"type\":\"mesh3d\"}],\"parcoords\":[{\"line\":{\"colorbar\":{\"outlinewidth\":0,\"ticks\":\"\"}},\"type\":\"parcoords\"}],\"pie\":[{\"automargin\":true,\"type\":\"pie\"}],\"scatter3d\":[{\"line\":{\"colorbar\":{\"outlinewidth\":0,\"ticks\":\"\"}},\"marker\":{\"colorbar\":{\"outlinewidth\":0,\"ticks\":\"\"}},\"type\":\"scatter3d\"}],\"scattercarpet\":[{\"marker\":{\"colorbar\":{\"outlinewidth\":0,\"ticks\":\"\"}},\"type\":\"scattercarpet\"}],\"scattergeo\":[{\"marker\":{\"colorbar\":{\"outlinewidth\":0,\"ticks\":\"\"}},\"type\":\"scattergeo\"}],\"scattergl\":[{\"marker\":{\"colorbar\":{\"outlinewidth\":0,\"ticks\":\"\"}},\"type\":\"scattergl\"}],\"scattermapbox\":[{\"marker\":{\"colorbar\":{\"outlinewidth\":0,\"ticks\":\"\"}},\"type\":\"scattermapbox\"}],\"scatterpolargl\":[{\"marker\":{\"colorbar\":{\"outlinewidth\":0,\"ticks\":\"\"}},\"type\":\"scatterpolargl\"}],\"scatterpolar\":[{\"marker\":{\"colorbar\":{\"outlinewidth\":0,\"ticks\":\"\"}},\"type\":\"scatterpolar\"}],\"scatter\":[{\"fillpattern\":{\"fillmode\":\"overlay\",\"size\":10,\"solidity\":0.2},\"type\":\"scatter\"}],\"scatterternary\":[{\"marker\":{\"colorbar\":{\"outlinewidth\":0,\"ticks\":\"\"}},\"type\":\"scatterternary\"}],\"surface\":[{\"colorbar\":{\"outlinewidth\":0,\"ticks\":\"\"},\"colorscale\":[[0.0,\"#0d0887\"],[0.1111111111111111,\"#46039f\"],[0.2222222222222222,\"#7201a8\"],[0.3333333333333333,\"#9c179e\"],[0.4444444444444444,\"#bd3786\"],[0.5555555555555556,\"#d8576b\"],[0.6666666666666666,\"#ed7953\"],[0.7777777777777778,\"#fb9f3a\"],[0.8888888888888888,\"#fdca26\"],[1.0,\"#f0f921\"]],\"type\":\"surface\"}],\"table\":[{\"cells\":{\"fill\":{\"color\":\"#EBF0F8\"},\"line\":{\"color\":\"white\"}},\"header\":{\"fill\":{\"color\":\"#C8D4E3\"},\"line\":{\"color\":\"white\"}},\"type\":\"table\"}]},\"layout\":{\"annotationdefaults\":{\"arrowcolor\":\"#2a3f5f\",\"arrowhead\":0,\"arrowwidth\":1},\"autotypenumbers\":\"strict\",\"coloraxis\":{\"colorbar\":{\"outlinewidth\":0,\"ticks\":\"\"}},\"colorscale\":{\"diverging\":[[0,\"#8e0152\"],[0.1,\"#c51b7d\"],[0.2,\"#de77ae\"],[0.3,\"#f1b6da\"],[0.4,\"#fde0ef\"],[0.5,\"#f7f7f7\"],[0.6,\"#e6f5d0\"],[0.7,\"#b8e186\"],[0.8,\"#7fbc41\"],[0.9,\"#4d9221\"],[1,\"#276419\"]],\"sequential\":[[0.0,\"#0d0887\"],[0.1111111111111111,\"#46039f\"],[0.2222222222222222,\"#7201a8\"],[0.3333333333333333,\"#9c179e\"],[0.4444444444444444,\"#bd3786\"],[0.5555555555555556,\"#d8576b\"],[0.6666666666666666,\"#ed7953\"],[0.7777777777777778,\"#fb9f3a\"],[0.8888888888888888,\"#fdca26\"],[1.0,\"#f0f921\"]],\"sequentialminus\":[[0.0,\"#0d0887\"],[0.1111111111111111,\"#46039f\"],[0.2222222222222222,\"#7201a8\"],[0.3333333333333333,\"#9c179e\"],[0.4444444444444444,\"#bd3786\"],[0.5555555555555556,\"#d8576b\"],[0.6666666666666666,\"#ed7953\"],[0.7777777777777778,\"#fb9f3a\"],[0.8888888888888888,\"#fdca26\"],[1.0,\"#f0f921\"]]},\"colorway\":[\"#636efa\",\"#EF553B\",\"#00cc96\",\"#ab63fa\",\"#FFA15A\",\"#19d3f3\",\"#FF6692\",\"#B6E880\",\"#FF97FF\",\"#FECB52\"],\"font\":{\"color\":\"#2a3f5f\"},\"geo\":{\"bgcolor\":\"white\",\"lakecolor\":\"white\",\"landcolor\":\"#E5ECF6\",\"showlakes\":true,\"showland\":true,\"subunitcolor\":\"white\"},\"hoverlabel\":{\"align\":\"left\"},\"hovermode\":\"closest\",\"mapbox\":{\"style\":\"light\"},\"paper_bgcolor\":\"white\",\"plot_bgcolor\":\"#E5ECF6\",\"polar\":{\"angularaxis\":{\"gridcolor\":\"white\",\"linecolor\":\"white\",\"ticks\":\"\"},\"bgcolor\":\"#E5ECF6\",\"radialaxis\":{\"gridcolor\":\"white\",\"linecolor\":\"white\",\"ticks\":\"\"}},\"scene\":{\"xaxis\":{\"backgroundcolor\":\"#E5ECF6\",\"gridcolor\":\"white\",\"gridwidth\":2,\"linecolor\":\"white\",\"showbackground\":true,\"ticks\":\"\",\"zerolinecolor\":\"white\"},\"yaxis\":{\"backgroundcolor\":\"#E5ECF6\",\"gridcolor\":\"white\",\"gridwidth\":2,\"linecolor\":\"white\",\"showbackground\":true,\"ticks\":\"\",\"zerolinecolor\":\"white\"},\"zaxis\":{\"backgroundcolor\":\"#E5ECF6\",\"gridcolor\":\"white\",\"gridwidth\":2,\"linecolor\":\"white\",\"showbackground\":true,\"ticks\":\"\",\"zerolinecolor\":\"white\"}},\"shapedefaults\":{\"line\":{\"color\":\"#2a3f5f\"}},\"ternary\":{\"aaxis\":{\"gridcolor\":\"white\",\"linecolor\":\"white\",\"ticks\":\"\"},\"baxis\":{\"gridcolor\":\"white\",\"linecolor\":\"white\",\"ticks\":\"\"},\"bgcolor\":\"#E5ECF6\",\"caxis\":{\"gridcolor\":\"white\",\"linecolor\":\"white\",\"ticks\":\"\"}},\"title\":{\"x\":0.05},\"xaxis\":{\"automargin\":true,\"gridcolor\":\"white\",\"linecolor\":\"white\",\"ticks\":\"\",\"title\":{\"standoff\":15},\"zerolinecolor\":\"white\",\"zerolinewidth\":2},\"yaxis\":{\"automargin\":true,\"gridcolor\":\"white\",\"linecolor\":\"white\",\"ticks\":\"\",\"title\":{\"standoff\":15},\"zerolinecolor\":\"white\",\"zerolinewidth\":2}}},\"title\":{\"text\":\"Class Distribution\"},\"width\":800,\"xaxis\":{\"title\":{\"text\":\"Attack Name\"}},\"yaxis\":{\"title\":{\"text\":\"Number of attacks\"}}},                        {\"responsive\": true}                    ).then(function(){\n",
       "                            \n",
       "var gd = document.getElementById('490365a9-0c0e-42be-b6d2-30c3a97d3afc');\n",
       "var x = new MutationObserver(function (mutations, observer) {{\n",
       "        var display = window.getComputedStyle(gd).display;\n",
       "        if (!display || display === 'none') {{\n",
       "            console.log([gd, 'removed!']);\n",
       "            Plotly.purge(gd);\n",
       "            observer.disconnect();\n",
       "        }}\n",
       "}});\n",
       "\n",
       "// Listen for the removal of the full notebook cells\n",
       "var notebookContainer = gd.closest('#notebook-container');\n",
       "if (notebookContainer) {{\n",
       "    x.observe(notebookContainer, {childList: true});\n",
       "}}\n",
       "\n",
       "// Listen for the clearing of the current output cell\n",
       "var outputEl = gd.closest('.output');\n",
       "if (outputEl) {{\n",
       "    x.observe(outputEl, {childList: true});\n",
       "}}\n",
       "\n",
       "                        })                };                });            </script>        </div>"
      ]
     },
     "metadata": {},
     "output_type": "display_data"
    }
   ],
   "source": [
    "import pandas as pd\n",
    "import numpy as np\n",
    "import matplotlib.pyplot as plt\n",
    "import joblib\n",
    "import sklearn\n",
    "from sklearn.preprocessing import MinMaxScaler\n",
    "from sklearn.ensemble import RandomForestClassifier\n",
    "from sklearn.model_selection import GridSearchCV, train_test_split\n",
    "from sklearn.metrics import accuracy_score, classification_report, confusion_matrix\n",
    "from sklearn.utils import class_weight\n",
    "\n",
    "RANDOM_STATE_SEED = 12\n",
    "\n",
    "from plotly.offline import init_notebook_mode, iplot, plot\n",
    "import plotly as py\n",
    "import plotly.express as px\n",
    "init_notebook_mode(connected=True)\n",
    "import plotly.graph_objs as go\n",
    "\n",
    "df = df_dataset\n",
    "fig = go.Figure(data=[\n",
    "    go.Bar(name='Benign', \n",
    "           y=df[\"Label\"].value_counts().values[0:1],\n",
    "           x=['Benign'],\n",
    "           text = df[\"Label\"].value_counts()[0:1],\n",
    "           orientation='v',\n",
    "           textposition='outside',),\n",
    "    go.Bar(name='Malicious', \n",
    "           y=df[\"Label\"].value_counts().values[1:2],\n",
    "           x=['Malicious'],\n",
    "           text = df[\"Label\"].value_counts()[1:2],\n",
    "           orientation='v',\n",
    "           textposition='outside',)\n",
    "])\n",
    "# Change the bar mode\n",
    "fig.update_layout(\n",
    "                  width=800,\n",
    "                  height=600,\n",
    "                  title=f'Class Distribution',\n",
    "                  yaxis_title='Number of attacks',\n",
    "                  xaxis_title='Attack Name',)\n",
    "iplot(fig)"
   ]
  },
  {
   "cell_type": "code",
   "execution_count": 15,
   "id": "268a1eec",
   "metadata": {
    "execution": {
     "iopub.execute_input": "2024-10-13T09:48:39.845363Z",
     "iopub.status.busy": "2024-10-13T09:48:39.844446Z",
     "iopub.status.idle": "2024-10-13T09:48:40.708601Z",
     "shell.execute_reply": "2024-10-13T09:48:40.707205Z"
    },
    "papermill": {
     "duration": 0.884264,
     "end_time": "2024-10-13T09:48:40.711269",
     "exception": false,
     "start_time": "2024-10-13T09:48:39.827005",
     "status": "completed"
    },
    "tags": []
   },
   "outputs": [],
   "source": [
    "df1 = df[df[\"Label\"] == 0][:255349]\n",
    "df2 = df[df[\"Label\"] == 1][:255349]\n",
    "df_equal = pd.concat([ df1,df2], axis =0)"
   ]
  },
  {
   "cell_type": "code",
   "execution_count": 16,
   "id": "f4d76b05",
   "metadata": {
    "execution": {
     "iopub.execute_input": "2024-10-13T09:48:40.746381Z",
     "iopub.status.busy": "2024-10-13T09:48:40.745432Z",
     "iopub.status.idle": "2024-10-13T09:48:40.750273Z",
     "shell.execute_reply": "2024-10-13T09:48:40.749264Z"
    },
    "papermill": {
     "duration": 0.024661,
     "end_time": "2024-10-13T09:48:40.752342",
     "exception": false,
     "start_time": "2024-10-13T09:48:40.727681",
     "status": "completed"
    },
    "tags": []
   },
   "outputs": [],
   "source": [
    "from sklearn.model_selection import RandomizedSearchCV\n",
    "from scipy.stats import randint"
   ]
  },
  {
   "cell_type": "code",
   "execution_count": 17,
   "id": "43544531",
   "metadata": {
    "execution": {
     "iopub.execute_input": "2024-10-13T09:48:40.787392Z",
     "iopub.status.busy": "2024-10-13T09:48:40.786610Z",
     "iopub.status.idle": "2024-10-13T09:48:40.844317Z",
     "shell.execute_reply": "2024-10-13T09:48:40.843163Z"
    },
    "papermill": {
     "duration": 0.07791,
     "end_time": "2024-10-13T09:48:40.846960",
     "exception": false,
     "start_time": "2024-10-13T09:48:40.769050",
     "status": "completed"
    },
    "tags": []
   },
   "outputs": [
    {
     "data": {
      "application/vnd.plotly.v1+json": {
       "config": {
        "linkText": "Export to plot.ly",
        "plotlyServerURL": "https://plot.ly",
        "showLink": false
       },
       "data": [
        {
         "name": "Benign",
         "orientation": "v",
         "text": [
          255349.0
         ],
         "textposition": "outside",
         "type": "bar",
         "x": [
          "Benign"
         ],
         "y": [
          255349
         ]
        },
        {
         "name": "Malicious",
         "orientation": "v",
         "text": [
          255349.0
         ],
         "textposition": "outside",
         "type": "bar",
         "x": [
          "Malicious"
         ],
         "y": [
          255349
         ]
        }
       ],
       "layout": {
        "height": 600,
        "template": {
         "data": {
          "bar": [
           {
            "error_x": {
             "color": "#2a3f5f"
            },
            "error_y": {
             "color": "#2a3f5f"
            },
            "marker": {
             "line": {
              "color": "#E5ECF6",
              "width": 0.5
             },
             "pattern": {
              "fillmode": "overlay",
              "size": 10,
              "solidity": 0.2
             }
            },
            "type": "bar"
           }
          ],
          "barpolar": [
           {
            "marker": {
             "line": {
              "color": "#E5ECF6",
              "width": 0.5
             },
             "pattern": {
              "fillmode": "overlay",
              "size": 10,
              "solidity": 0.2
             }
            },
            "type": "barpolar"
           }
          ],
          "carpet": [
           {
            "aaxis": {
             "endlinecolor": "#2a3f5f",
             "gridcolor": "white",
             "linecolor": "white",
             "minorgridcolor": "white",
             "startlinecolor": "#2a3f5f"
            },
            "baxis": {
             "endlinecolor": "#2a3f5f",
             "gridcolor": "white",
             "linecolor": "white",
             "minorgridcolor": "white",
             "startlinecolor": "#2a3f5f"
            },
            "type": "carpet"
           }
          ],
          "choropleth": [
           {
            "colorbar": {
             "outlinewidth": 0,
             "ticks": ""
            },
            "type": "choropleth"
           }
          ],
          "contour": [
           {
            "colorbar": {
             "outlinewidth": 0,
             "ticks": ""
            },
            "colorscale": [
             [
              0.0,
              "#0d0887"
             ],
             [
              0.1111111111111111,
              "#46039f"
             ],
             [
              0.2222222222222222,
              "#7201a8"
             ],
             [
              0.3333333333333333,
              "#9c179e"
             ],
             [
              0.4444444444444444,
              "#bd3786"
             ],
             [
              0.5555555555555556,
              "#d8576b"
             ],
             [
              0.6666666666666666,
              "#ed7953"
             ],
             [
              0.7777777777777778,
              "#fb9f3a"
             ],
             [
              0.8888888888888888,
              "#fdca26"
             ],
             [
              1.0,
              "#f0f921"
             ]
            ],
            "type": "contour"
           }
          ],
          "contourcarpet": [
           {
            "colorbar": {
             "outlinewidth": 0,
             "ticks": ""
            },
            "type": "contourcarpet"
           }
          ],
          "heatmap": [
           {
            "colorbar": {
             "outlinewidth": 0,
             "ticks": ""
            },
            "colorscale": [
             [
              0.0,
              "#0d0887"
             ],
             [
              0.1111111111111111,
              "#46039f"
             ],
             [
              0.2222222222222222,
              "#7201a8"
             ],
             [
              0.3333333333333333,
              "#9c179e"
             ],
             [
              0.4444444444444444,
              "#bd3786"
             ],
             [
              0.5555555555555556,
              "#d8576b"
             ],
             [
              0.6666666666666666,
              "#ed7953"
             ],
             [
              0.7777777777777778,
              "#fb9f3a"
             ],
             [
              0.8888888888888888,
              "#fdca26"
             ],
             [
              1.0,
              "#f0f921"
             ]
            ],
            "type": "heatmap"
           }
          ],
          "heatmapgl": [
           {
            "colorbar": {
             "outlinewidth": 0,
             "ticks": ""
            },
            "colorscale": [
             [
              0.0,
              "#0d0887"
             ],
             [
              0.1111111111111111,
              "#46039f"
             ],
             [
              0.2222222222222222,
              "#7201a8"
             ],
             [
              0.3333333333333333,
              "#9c179e"
             ],
             [
              0.4444444444444444,
              "#bd3786"
             ],
             [
              0.5555555555555556,
              "#d8576b"
             ],
             [
              0.6666666666666666,
              "#ed7953"
             ],
             [
              0.7777777777777778,
              "#fb9f3a"
             ],
             [
              0.8888888888888888,
              "#fdca26"
             ],
             [
              1.0,
              "#f0f921"
             ]
            ],
            "type": "heatmapgl"
           }
          ],
          "histogram": [
           {
            "marker": {
             "pattern": {
              "fillmode": "overlay",
              "size": 10,
              "solidity": 0.2
             }
            },
            "type": "histogram"
           }
          ],
          "histogram2d": [
           {
            "colorbar": {
             "outlinewidth": 0,
             "ticks": ""
            },
            "colorscale": [
             [
              0.0,
              "#0d0887"
             ],
             [
              0.1111111111111111,
              "#46039f"
             ],
             [
              0.2222222222222222,
              "#7201a8"
             ],
             [
              0.3333333333333333,
              "#9c179e"
             ],
             [
              0.4444444444444444,
              "#bd3786"
             ],
             [
              0.5555555555555556,
              "#d8576b"
             ],
             [
              0.6666666666666666,
              "#ed7953"
             ],
             [
              0.7777777777777778,
              "#fb9f3a"
             ],
             [
              0.8888888888888888,
              "#fdca26"
             ],
             [
              1.0,
              "#f0f921"
             ]
            ],
            "type": "histogram2d"
           }
          ],
          "histogram2dcontour": [
           {
            "colorbar": {
             "outlinewidth": 0,
             "ticks": ""
            },
            "colorscale": [
             [
              0.0,
              "#0d0887"
             ],
             [
              0.1111111111111111,
              "#46039f"
             ],
             [
              0.2222222222222222,
              "#7201a8"
             ],
             [
              0.3333333333333333,
              "#9c179e"
             ],
             [
              0.4444444444444444,
              "#bd3786"
             ],
             [
              0.5555555555555556,
              "#d8576b"
             ],
             [
              0.6666666666666666,
              "#ed7953"
             ],
             [
              0.7777777777777778,
              "#fb9f3a"
             ],
             [
              0.8888888888888888,
              "#fdca26"
             ],
             [
              1.0,
              "#f0f921"
             ]
            ],
            "type": "histogram2dcontour"
           }
          ],
          "mesh3d": [
           {
            "colorbar": {
             "outlinewidth": 0,
             "ticks": ""
            },
            "type": "mesh3d"
           }
          ],
          "parcoords": [
           {
            "line": {
             "colorbar": {
              "outlinewidth": 0,
              "ticks": ""
             }
            },
            "type": "parcoords"
           }
          ],
          "pie": [
           {
            "automargin": true,
            "type": "pie"
           }
          ],
          "scatter": [
           {
            "fillpattern": {
             "fillmode": "overlay",
             "size": 10,
             "solidity": 0.2
            },
            "type": "scatter"
           }
          ],
          "scatter3d": [
           {
            "line": {
             "colorbar": {
              "outlinewidth": 0,
              "ticks": ""
             }
            },
            "marker": {
             "colorbar": {
              "outlinewidth": 0,
              "ticks": ""
             }
            },
            "type": "scatter3d"
           }
          ],
          "scattercarpet": [
           {
            "marker": {
             "colorbar": {
              "outlinewidth": 0,
              "ticks": ""
             }
            },
            "type": "scattercarpet"
           }
          ],
          "scattergeo": [
           {
            "marker": {
             "colorbar": {
              "outlinewidth": 0,
              "ticks": ""
             }
            },
            "type": "scattergeo"
           }
          ],
          "scattergl": [
           {
            "marker": {
             "colorbar": {
              "outlinewidth": 0,
              "ticks": ""
             }
            },
            "type": "scattergl"
           }
          ],
          "scattermapbox": [
           {
            "marker": {
             "colorbar": {
              "outlinewidth": 0,
              "ticks": ""
             }
            },
            "type": "scattermapbox"
           }
          ],
          "scatterpolar": [
           {
            "marker": {
             "colorbar": {
              "outlinewidth": 0,
              "ticks": ""
             }
            },
            "type": "scatterpolar"
           }
          ],
          "scatterpolargl": [
           {
            "marker": {
             "colorbar": {
              "outlinewidth": 0,
              "ticks": ""
             }
            },
            "type": "scatterpolargl"
           }
          ],
          "scatterternary": [
           {
            "marker": {
             "colorbar": {
              "outlinewidth": 0,
              "ticks": ""
             }
            },
            "type": "scatterternary"
           }
          ],
          "surface": [
           {
            "colorbar": {
             "outlinewidth": 0,
             "ticks": ""
            },
            "colorscale": [
             [
              0.0,
              "#0d0887"
             ],
             [
              0.1111111111111111,
              "#46039f"
             ],
             [
              0.2222222222222222,
              "#7201a8"
             ],
             [
              0.3333333333333333,
              "#9c179e"
             ],
             [
              0.4444444444444444,
              "#bd3786"
             ],
             [
              0.5555555555555556,
              "#d8576b"
             ],
             [
              0.6666666666666666,
              "#ed7953"
             ],
             [
              0.7777777777777778,
              "#fb9f3a"
             ],
             [
              0.8888888888888888,
              "#fdca26"
             ],
             [
              1.0,
              "#f0f921"
             ]
            ],
            "type": "surface"
           }
          ],
          "table": [
           {
            "cells": {
             "fill": {
              "color": "#EBF0F8"
             },
             "line": {
              "color": "white"
             }
            },
            "header": {
             "fill": {
              "color": "#C8D4E3"
             },
             "line": {
              "color": "white"
             }
            },
            "type": "table"
           }
          ]
         },
         "layout": {
          "annotationdefaults": {
           "arrowcolor": "#2a3f5f",
           "arrowhead": 0,
           "arrowwidth": 1
          },
          "autotypenumbers": "strict",
          "coloraxis": {
           "colorbar": {
            "outlinewidth": 0,
            "ticks": ""
           }
          },
          "colorscale": {
           "diverging": [
            [
             0,
             "#8e0152"
            ],
            [
             0.1,
             "#c51b7d"
            ],
            [
             0.2,
             "#de77ae"
            ],
            [
             0.3,
             "#f1b6da"
            ],
            [
             0.4,
             "#fde0ef"
            ],
            [
             0.5,
             "#f7f7f7"
            ],
            [
             0.6,
             "#e6f5d0"
            ],
            [
             0.7,
             "#b8e186"
            ],
            [
             0.8,
             "#7fbc41"
            ],
            [
             0.9,
             "#4d9221"
            ],
            [
             1,
             "#276419"
            ]
           ],
           "sequential": [
            [
             0.0,
             "#0d0887"
            ],
            [
             0.1111111111111111,
             "#46039f"
            ],
            [
             0.2222222222222222,
             "#7201a8"
            ],
            [
             0.3333333333333333,
             "#9c179e"
            ],
            [
             0.4444444444444444,
             "#bd3786"
            ],
            [
             0.5555555555555556,
             "#d8576b"
            ],
            [
             0.6666666666666666,
             "#ed7953"
            ],
            [
             0.7777777777777778,
             "#fb9f3a"
            ],
            [
             0.8888888888888888,
             "#fdca26"
            ],
            [
             1.0,
             "#f0f921"
            ]
           ],
           "sequentialminus": [
            [
             0.0,
             "#0d0887"
            ],
            [
             0.1111111111111111,
             "#46039f"
            ],
            [
             0.2222222222222222,
             "#7201a8"
            ],
            [
             0.3333333333333333,
             "#9c179e"
            ],
            [
             0.4444444444444444,
             "#bd3786"
            ],
            [
             0.5555555555555556,
             "#d8576b"
            ],
            [
             0.6666666666666666,
             "#ed7953"
            ],
            [
             0.7777777777777778,
             "#fb9f3a"
            ],
            [
             0.8888888888888888,
             "#fdca26"
            ],
            [
             1.0,
             "#f0f921"
            ]
           ]
          },
          "colorway": [
           "#636efa",
           "#EF553B",
           "#00cc96",
           "#ab63fa",
           "#FFA15A",
           "#19d3f3",
           "#FF6692",
           "#B6E880",
           "#FF97FF",
           "#FECB52"
          ],
          "font": {
           "color": "#2a3f5f"
          },
          "geo": {
           "bgcolor": "white",
           "lakecolor": "white",
           "landcolor": "#E5ECF6",
           "showlakes": true,
           "showland": true,
           "subunitcolor": "white"
          },
          "hoverlabel": {
           "align": "left"
          },
          "hovermode": "closest",
          "mapbox": {
           "style": "light"
          },
          "paper_bgcolor": "white",
          "plot_bgcolor": "#E5ECF6",
          "polar": {
           "angularaxis": {
            "gridcolor": "white",
            "linecolor": "white",
            "ticks": ""
           },
           "bgcolor": "#E5ECF6",
           "radialaxis": {
            "gridcolor": "white",
            "linecolor": "white",
            "ticks": ""
           }
          },
          "scene": {
           "xaxis": {
            "backgroundcolor": "#E5ECF6",
            "gridcolor": "white",
            "gridwidth": 2,
            "linecolor": "white",
            "showbackground": true,
            "ticks": "",
            "zerolinecolor": "white"
           },
           "yaxis": {
            "backgroundcolor": "#E5ECF6",
            "gridcolor": "white",
            "gridwidth": 2,
            "linecolor": "white",
            "showbackground": true,
            "ticks": "",
            "zerolinecolor": "white"
           },
           "zaxis": {
            "backgroundcolor": "#E5ECF6",
            "gridcolor": "white",
            "gridwidth": 2,
            "linecolor": "white",
            "showbackground": true,
            "ticks": "",
            "zerolinecolor": "white"
           }
          },
          "shapedefaults": {
           "line": {
            "color": "#2a3f5f"
           }
          },
          "ternary": {
           "aaxis": {
            "gridcolor": "white",
            "linecolor": "white",
            "ticks": ""
           },
           "baxis": {
            "gridcolor": "white",
            "linecolor": "white",
            "ticks": ""
           },
           "bgcolor": "#E5ECF6",
           "caxis": {
            "gridcolor": "white",
            "linecolor": "white",
            "ticks": ""
           }
          },
          "title": {
           "x": 0.05
          },
          "xaxis": {
           "automargin": true,
           "gridcolor": "white",
           "linecolor": "white",
           "ticks": "",
           "title": {
            "standoff": 15
           },
           "zerolinecolor": "white",
           "zerolinewidth": 2
          },
          "yaxis": {
           "automargin": true,
           "gridcolor": "white",
           "linecolor": "white",
           "ticks": "",
           "title": {
            "standoff": 15
           },
           "zerolinecolor": "white",
           "zerolinewidth": 2
          }
         }
        },
        "title": {
         "text": "Class Distribution"
        },
        "width": 800,
        "xaxis": {
         "title": {
          "text": "Attack Name"
         }
        },
        "yaxis": {
         "title": {
          "text": "Number of attacks"
         }
        }
       }
      },
      "text/html": [
       "<div>                            <div id=\"5dfdf5e3-5620-4d96-a390-f283fd88e9b2\" class=\"plotly-graph-div\" style=\"height:600px; width:800px;\"></div>            <script type=\"text/javascript\">                require([\"plotly\"], function(Plotly) {                    window.PLOTLYENV=window.PLOTLYENV || {};                                    if (document.getElementById(\"5dfdf5e3-5620-4d96-a390-f283fd88e9b2\")) {                    Plotly.newPlot(                        \"5dfdf5e3-5620-4d96-a390-f283fd88e9b2\",                        [{\"name\":\"Benign\",\"orientation\":\"v\",\"text\":[255349.0],\"textposition\":\"outside\",\"x\":[\"Benign\"],\"y\":[255349],\"type\":\"bar\"},{\"name\":\"Malicious\",\"orientation\":\"v\",\"text\":[255349.0],\"textposition\":\"outside\",\"x\":[\"Malicious\"],\"y\":[255349],\"type\":\"bar\"}],                        {\"height\":600,\"template\":{\"data\":{\"barpolar\":[{\"marker\":{\"line\":{\"color\":\"#E5ECF6\",\"width\":0.5},\"pattern\":{\"fillmode\":\"overlay\",\"size\":10,\"solidity\":0.2}},\"type\":\"barpolar\"}],\"bar\":[{\"error_x\":{\"color\":\"#2a3f5f\"},\"error_y\":{\"color\":\"#2a3f5f\"},\"marker\":{\"line\":{\"color\":\"#E5ECF6\",\"width\":0.5},\"pattern\":{\"fillmode\":\"overlay\",\"size\":10,\"solidity\":0.2}},\"type\":\"bar\"}],\"carpet\":[{\"aaxis\":{\"endlinecolor\":\"#2a3f5f\",\"gridcolor\":\"white\",\"linecolor\":\"white\",\"minorgridcolor\":\"white\",\"startlinecolor\":\"#2a3f5f\"},\"baxis\":{\"endlinecolor\":\"#2a3f5f\",\"gridcolor\":\"white\",\"linecolor\":\"white\",\"minorgridcolor\":\"white\",\"startlinecolor\":\"#2a3f5f\"},\"type\":\"carpet\"}],\"choropleth\":[{\"colorbar\":{\"outlinewidth\":0,\"ticks\":\"\"},\"type\":\"choropleth\"}],\"contourcarpet\":[{\"colorbar\":{\"outlinewidth\":0,\"ticks\":\"\"},\"type\":\"contourcarpet\"}],\"contour\":[{\"colorbar\":{\"outlinewidth\":0,\"ticks\":\"\"},\"colorscale\":[[0.0,\"#0d0887\"],[0.1111111111111111,\"#46039f\"],[0.2222222222222222,\"#7201a8\"],[0.3333333333333333,\"#9c179e\"],[0.4444444444444444,\"#bd3786\"],[0.5555555555555556,\"#d8576b\"],[0.6666666666666666,\"#ed7953\"],[0.7777777777777778,\"#fb9f3a\"],[0.8888888888888888,\"#fdca26\"],[1.0,\"#f0f921\"]],\"type\":\"contour\"}],\"heatmapgl\":[{\"colorbar\":{\"outlinewidth\":0,\"ticks\":\"\"},\"colorscale\":[[0.0,\"#0d0887\"],[0.1111111111111111,\"#46039f\"],[0.2222222222222222,\"#7201a8\"],[0.3333333333333333,\"#9c179e\"],[0.4444444444444444,\"#bd3786\"],[0.5555555555555556,\"#d8576b\"],[0.6666666666666666,\"#ed7953\"],[0.7777777777777778,\"#fb9f3a\"],[0.8888888888888888,\"#fdca26\"],[1.0,\"#f0f921\"]],\"type\":\"heatmapgl\"}],\"heatmap\":[{\"colorbar\":{\"outlinewidth\":0,\"ticks\":\"\"},\"colorscale\":[[0.0,\"#0d0887\"],[0.1111111111111111,\"#46039f\"],[0.2222222222222222,\"#7201a8\"],[0.3333333333333333,\"#9c179e\"],[0.4444444444444444,\"#bd3786\"],[0.5555555555555556,\"#d8576b\"],[0.6666666666666666,\"#ed7953\"],[0.7777777777777778,\"#fb9f3a\"],[0.8888888888888888,\"#fdca26\"],[1.0,\"#f0f921\"]],\"type\":\"heatmap\"}],\"histogram2dcontour\":[{\"colorbar\":{\"outlinewidth\":0,\"ticks\":\"\"},\"colorscale\":[[0.0,\"#0d0887\"],[0.1111111111111111,\"#46039f\"],[0.2222222222222222,\"#7201a8\"],[0.3333333333333333,\"#9c179e\"],[0.4444444444444444,\"#bd3786\"],[0.5555555555555556,\"#d8576b\"],[0.6666666666666666,\"#ed7953\"],[0.7777777777777778,\"#fb9f3a\"],[0.8888888888888888,\"#fdca26\"],[1.0,\"#f0f921\"]],\"type\":\"histogram2dcontour\"}],\"histogram2d\":[{\"colorbar\":{\"outlinewidth\":0,\"ticks\":\"\"},\"colorscale\":[[0.0,\"#0d0887\"],[0.1111111111111111,\"#46039f\"],[0.2222222222222222,\"#7201a8\"],[0.3333333333333333,\"#9c179e\"],[0.4444444444444444,\"#bd3786\"],[0.5555555555555556,\"#d8576b\"],[0.6666666666666666,\"#ed7953\"],[0.7777777777777778,\"#fb9f3a\"],[0.8888888888888888,\"#fdca26\"],[1.0,\"#f0f921\"]],\"type\":\"histogram2d\"}],\"histogram\":[{\"marker\":{\"pattern\":{\"fillmode\":\"overlay\",\"size\":10,\"solidity\":0.2}},\"type\":\"histogram\"}],\"mesh3d\":[{\"colorbar\":{\"outlinewidth\":0,\"ticks\":\"\"},\"type\":\"mesh3d\"}],\"parcoords\":[{\"line\":{\"colorbar\":{\"outlinewidth\":0,\"ticks\":\"\"}},\"type\":\"parcoords\"}],\"pie\":[{\"automargin\":true,\"type\":\"pie\"}],\"scatter3d\":[{\"line\":{\"colorbar\":{\"outlinewidth\":0,\"ticks\":\"\"}},\"marker\":{\"colorbar\":{\"outlinewidth\":0,\"ticks\":\"\"}},\"type\":\"scatter3d\"}],\"scattercarpet\":[{\"marker\":{\"colorbar\":{\"outlinewidth\":0,\"ticks\":\"\"}},\"type\":\"scattercarpet\"}],\"scattergeo\":[{\"marker\":{\"colorbar\":{\"outlinewidth\":0,\"ticks\":\"\"}},\"type\":\"scattergeo\"}],\"scattergl\":[{\"marker\":{\"colorbar\":{\"outlinewidth\":0,\"ticks\":\"\"}},\"type\":\"scattergl\"}],\"scattermapbox\":[{\"marker\":{\"colorbar\":{\"outlinewidth\":0,\"ticks\":\"\"}},\"type\":\"scattermapbox\"}],\"scatterpolargl\":[{\"marker\":{\"colorbar\":{\"outlinewidth\":0,\"ticks\":\"\"}},\"type\":\"scatterpolargl\"}],\"scatterpolar\":[{\"marker\":{\"colorbar\":{\"outlinewidth\":0,\"ticks\":\"\"}},\"type\":\"scatterpolar\"}],\"scatter\":[{\"fillpattern\":{\"fillmode\":\"overlay\",\"size\":10,\"solidity\":0.2},\"type\":\"scatter\"}],\"scatterternary\":[{\"marker\":{\"colorbar\":{\"outlinewidth\":0,\"ticks\":\"\"}},\"type\":\"scatterternary\"}],\"surface\":[{\"colorbar\":{\"outlinewidth\":0,\"ticks\":\"\"},\"colorscale\":[[0.0,\"#0d0887\"],[0.1111111111111111,\"#46039f\"],[0.2222222222222222,\"#7201a8\"],[0.3333333333333333,\"#9c179e\"],[0.4444444444444444,\"#bd3786\"],[0.5555555555555556,\"#d8576b\"],[0.6666666666666666,\"#ed7953\"],[0.7777777777777778,\"#fb9f3a\"],[0.8888888888888888,\"#fdca26\"],[1.0,\"#f0f921\"]],\"type\":\"surface\"}],\"table\":[{\"cells\":{\"fill\":{\"color\":\"#EBF0F8\"},\"line\":{\"color\":\"white\"}},\"header\":{\"fill\":{\"color\":\"#C8D4E3\"},\"line\":{\"color\":\"white\"}},\"type\":\"table\"}]},\"layout\":{\"annotationdefaults\":{\"arrowcolor\":\"#2a3f5f\",\"arrowhead\":0,\"arrowwidth\":1},\"autotypenumbers\":\"strict\",\"coloraxis\":{\"colorbar\":{\"outlinewidth\":0,\"ticks\":\"\"}},\"colorscale\":{\"diverging\":[[0,\"#8e0152\"],[0.1,\"#c51b7d\"],[0.2,\"#de77ae\"],[0.3,\"#f1b6da\"],[0.4,\"#fde0ef\"],[0.5,\"#f7f7f7\"],[0.6,\"#e6f5d0\"],[0.7,\"#b8e186\"],[0.8,\"#7fbc41\"],[0.9,\"#4d9221\"],[1,\"#276419\"]],\"sequential\":[[0.0,\"#0d0887\"],[0.1111111111111111,\"#46039f\"],[0.2222222222222222,\"#7201a8\"],[0.3333333333333333,\"#9c179e\"],[0.4444444444444444,\"#bd3786\"],[0.5555555555555556,\"#d8576b\"],[0.6666666666666666,\"#ed7953\"],[0.7777777777777778,\"#fb9f3a\"],[0.8888888888888888,\"#fdca26\"],[1.0,\"#f0f921\"]],\"sequentialminus\":[[0.0,\"#0d0887\"],[0.1111111111111111,\"#46039f\"],[0.2222222222222222,\"#7201a8\"],[0.3333333333333333,\"#9c179e\"],[0.4444444444444444,\"#bd3786\"],[0.5555555555555556,\"#d8576b\"],[0.6666666666666666,\"#ed7953\"],[0.7777777777777778,\"#fb9f3a\"],[0.8888888888888888,\"#fdca26\"],[1.0,\"#f0f921\"]]},\"colorway\":[\"#636efa\",\"#EF553B\",\"#00cc96\",\"#ab63fa\",\"#FFA15A\",\"#19d3f3\",\"#FF6692\",\"#B6E880\",\"#FF97FF\",\"#FECB52\"],\"font\":{\"color\":\"#2a3f5f\"},\"geo\":{\"bgcolor\":\"white\",\"lakecolor\":\"white\",\"landcolor\":\"#E5ECF6\",\"showlakes\":true,\"showland\":true,\"subunitcolor\":\"white\"},\"hoverlabel\":{\"align\":\"left\"},\"hovermode\":\"closest\",\"mapbox\":{\"style\":\"light\"},\"paper_bgcolor\":\"white\",\"plot_bgcolor\":\"#E5ECF6\",\"polar\":{\"angularaxis\":{\"gridcolor\":\"white\",\"linecolor\":\"white\",\"ticks\":\"\"},\"bgcolor\":\"#E5ECF6\",\"radialaxis\":{\"gridcolor\":\"white\",\"linecolor\":\"white\",\"ticks\":\"\"}},\"scene\":{\"xaxis\":{\"backgroundcolor\":\"#E5ECF6\",\"gridcolor\":\"white\",\"gridwidth\":2,\"linecolor\":\"white\",\"showbackground\":true,\"ticks\":\"\",\"zerolinecolor\":\"white\"},\"yaxis\":{\"backgroundcolor\":\"#E5ECF6\",\"gridcolor\":\"white\",\"gridwidth\":2,\"linecolor\":\"white\",\"showbackground\":true,\"ticks\":\"\",\"zerolinecolor\":\"white\"},\"zaxis\":{\"backgroundcolor\":\"#E5ECF6\",\"gridcolor\":\"white\",\"gridwidth\":2,\"linecolor\":\"white\",\"showbackground\":true,\"ticks\":\"\",\"zerolinecolor\":\"white\"}},\"shapedefaults\":{\"line\":{\"color\":\"#2a3f5f\"}},\"ternary\":{\"aaxis\":{\"gridcolor\":\"white\",\"linecolor\":\"white\",\"ticks\":\"\"},\"baxis\":{\"gridcolor\":\"white\",\"linecolor\":\"white\",\"ticks\":\"\"},\"bgcolor\":\"#E5ECF6\",\"caxis\":{\"gridcolor\":\"white\",\"linecolor\":\"white\",\"ticks\":\"\"}},\"title\":{\"x\":0.05},\"xaxis\":{\"automargin\":true,\"gridcolor\":\"white\",\"linecolor\":\"white\",\"ticks\":\"\",\"title\":{\"standoff\":15},\"zerolinecolor\":\"white\",\"zerolinewidth\":2},\"yaxis\":{\"automargin\":true,\"gridcolor\":\"white\",\"linecolor\":\"white\",\"ticks\":\"\",\"title\":{\"standoff\":15},\"zerolinecolor\":\"white\",\"zerolinewidth\":2}}},\"title\":{\"text\":\"Class Distribution\"},\"width\":800,\"xaxis\":{\"title\":{\"text\":\"Attack Name\"}},\"yaxis\":{\"title\":{\"text\":\"Number of attacks\"}}},                        {\"responsive\": true}                    ).then(function(){\n",
       "                            \n",
       "var gd = document.getElementById('5dfdf5e3-5620-4d96-a390-f283fd88e9b2');\n",
       "var x = new MutationObserver(function (mutations, observer) {{\n",
       "        var display = window.getComputedStyle(gd).display;\n",
       "        if (!display || display === 'none') {{\n",
       "            console.log([gd, 'removed!']);\n",
       "            Plotly.purge(gd);\n",
       "            observer.disconnect();\n",
       "        }}\n",
       "}});\n",
       "\n",
       "// Listen for the removal of the full notebook cells\n",
       "var notebookContainer = gd.closest('#notebook-container');\n",
       "if (notebookContainer) {{\n",
       "    x.observe(notebookContainer, {childList: true});\n",
       "}}\n",
       "\n",
       "// Listen for the clearing of the current output cell\n",
       "var outputEl = gd.closest('.output');\n",
       "if (outputEl) {{\n",
       "    x.observe(outputEl, {childList: true});\n",
       "}}\n",
       "\n",
       "                        })                };                });            </script>        </div>"
      ]
     },
     "metadata": {},
     "output_type": "display_data"
    }
   ],
   "source": [
    "fig = go.Figure(data=[\n",
    "    go.Bar(name='Benign', \n",
    "           y=df_equal[\"Label\"].value_counts().values[0:1],\n",
    "           x=['Benign'],\n",
    "           text = df_equal[\"Label\"].value_counts()[0:1],\n",
    "           orientation='v',\n",
    "           textposition='outside',),\n",
    "    go.Bar(name='Malicious', \n",
    "           y=df_equal[\"Label\"].value_counts().values[1:2],\n",
    "           x=['Malicious'],\n",
    "           text = df_equal[\"Label\"].value_counts()[1:2],\n",
    "           orientation='v',\n",
    "           textposition='outside',)\n",
    "])\n",
    "# Change the bar mode\n",
    "fig.update_layout(\n",
    "                  width=800,\n",
    "                  height=600,\n",
    "                  title=f'Class Distribution',\n",
    "                  yaxis_title='Number of attacks',\n",
    "                  xaxis_title='Attack Name',)\n",
    "iplot(fig)"
   ]
  },
  {
   "cell_type": "markdown",
   "id": "a436f88b",
   "metadata": {
    "papermill": {
     "duration": 0.021063,
     "end_time": "2024-10-13T09:48:40.889495",
     "exception": false,
     "start_time": "2024-10-13T09:48:40.868432",
     "status": "completed"
    },
    "tags": []
   },
   "source": [
    "# Creating train/test split"
   ]
  },
  {
   "cell_type": "code",
   "execution_count": 18,
   "id": "bce5b3e3",
   "metadata": {
    "execution": {
     "iopub.execute_input": "2024-10-13T09:48:40.933802Z",
     "iopub.status.busy": "2024-10-13T09:48:40.933428Z",
     "iopub.status.idle": "2024-10-13T09:48:41.502161Z",
     "shell.execute_reply": "2024-10-13T09:48:41.501147Z"
    },
    "papermill": {
     "duration": 0.593547,
     "end_time": "2024-10-13T09:48:41.504649",
     "exception": false,
     "start_time": "2024-10-13T09:48:40.911102",
     "status": "completed"
    },
    "tags": []
   },
   "outputs": [],
   "source": [
    "train, test = train_test_split(df_equal, test_size=0.2)"
   ]
  },
  {
   "cell_type": "code",
   "execution_count": 19,
   "id": "62cea6d4",
   "metadata": {
    "execution": {
     "iopub.execute_input": "2024-10-13T09:48:41.549875Z",
     "iopub.status.busy": "2024-10-13T09:48:41.549501Z",
     "iopub.status.idle": "2024-10-13T09:48:41.556756Z",
     "shell.execute_reply": "2024-10-13T09:48:41.555673Z"
    },
    "papermill": {
     "duration": 0.032,
     "end_time": "2024-10-13T09:48:41.558838",
     "exception": false,
     "start_time": "2024-10-13T09:48:41.526838",
     "status": "completed"
    },
    "tags": []
   },
   "outputs": [
    {
     "data": {
      "text/plain": [
       "Index(['Unnamed: 0', 'Dst Port', 'Protocol', 'Flow Duration', 'Tot Fwd Pkts',\n",
       "       'Tot Bwd Pkts', 'TotLen Fwd Pkts', 'TotLen Bwd Pkts', 'Fwd Pkt Len Max',\n",
       "       'Fwd Pkt Len Min', 'Fwd Pkt Len Mean', 'Fwd Pkt Len Std',\n",
       "       'Bwd Pkt Len Max', 'Bwd Pkt Len Min', 'Bwd Pkt Len Mean',\n",
       "       'Bwd Pkt Len Std', 'Flow Byts/s', 'Flow Pkts/s', 'Flow IAT Mean',\n",
       "       'Flow IAT Std', 'Flow IAT Max', 'Flow IAT Min', 'Fwd IAT Tot',\n",
       "       'Fwd IAT Mean', 'Fwd IAT Std', 'Fwd IAT Max', 'Fwd IAT Min',\n",
       "       'Bwd IAT Tot', 'Bwd IAT Mean', 'Bwd IAT Std', 'Bwd IAT Max',\n",
       "       'Bwd IAT Min', 'Fwd PSH Flags', 'Bwd PSH Flags', 'Fwd URG Flags',\n",
       "       'Bwd URG Flags', 'Fwd Header Len', 'Bwd Header Len', 'Fwd Pkts/s',\n",
       "       'Bwd Pkts/s', 'Pkt Len Min', 'Pkt Len Max', 'Pkt Len Mean',\n",
       "       'Pkt Len Std', 'Pkt Len Var', 'FIN Flag Cnt', 'SYN Flag Cnt',\n",
       "       'RST Flag Cnt', 'PSH Flag Cnt', 'ACK Flag Cnt', 'URG Flag Cnt',\n",
       "       'CWE Flag Count', 'ECE Flag Cnt', 'Pkt Size Avg', 'Fwd Seg Size Avg',\n",
       "       'Bwd Seg Size Avg', 'Fwd Byts/b Avg', 'Fwd Pkts/b Avg',\n",
       "       'Fwd Blk Rate Avg', 'Bwd Byts/b Avg', 'Bwd Pkts/b Avg',\n",
       "       'Bwd Blk Rate Avg', 'Subflow Fwd Pkts', 'Subflow Fwd Byts',\n",
       "       'Subflow Bwd Pkts', 'Subflow Bwd Byts', 'Init Fwd Win Byts',\n",
       "       'Init Bwd Win Byts', 'Fwd Act Data Pkts', 'Fwd Seg Size Min',\n",
       "       'Active Mean', 'Active Std', 'Active Max', 'Active Min', 'Idle Mean',\n",
       "       'Idle Std', 'Idle Max', 'Idle Min', 'Label'],\n",
       "      dtype='object')"
      ]
     },
     "execution_count": 19,
     "metadata": {},
     "output_type": "execute_result"
    }
   ],
   "source": [
    "# display columns\n",
    "train.columns"
   ]
  },
  {
   "cell_type": "code",
   "execution_count": 20,
   "id": "5190321f",
   "metadata": {
    "execution": {
     "iopub.execute_input": "2024-10-13T09:48:41.603171Z",
     "iopub.status.busy": "2024-10-13T09:48:41.602381Z",
     "iopub.status.idle": "2024-10-13T09:48:41.660874Z",
     "shell.execute_reply": "2024-10-13T09:48:41.659671Z"
    },
    "papermill": {
     "duration": 0.083569,
     "end_time": "2024-10-13T09:48:41.663689",
     "exception": false,
     "start_time": "2024-10-13T09:48:41.580120",
     "status": "completed"
    },
    "tags": []
   },
   "outputs": [
    {
     "name": "stdout",
     "output_type": "stream",
     "text": [
      "<class 'pandas.core.frame.DataFrame'>\n",
      "Int64Index: 408558 entries, 625218 to 188878\n",
      "Data columns (total 79 columns):\n",
      " #   Column             Non-Null Count   Dtype  \n",
      "---  ------             --------------   -----  \n",
      " 0   Unnamed: 0         408558 non-null  int64  \n",
      " 1   Dst Port           408558 non-null  int64  \n",
      " 2   Protocol           408558 non-null  int64  \n",
      " 3   Flow Duration      408558 non-null  int64  \n",
      " 4   Tot Fwd Pkts       408558 non-null  int64  \n",
      " 5   Tot Bwd Pkts       408558 non-null  int64  \n",
      " 6   TotLen Fwd Pkts    408558 non-null  int64  \n",
      " 7   TotLen Bwd Pkts    408558 non-null  int64  \n",
      " 8   Fwd Pkt Len Max    408558 non-null  int64  \n",
      " 9   Fwd Pkt Len Min    408558 non-null  int64  \n",
      " 10  Fwd Pkt Len Mean   408558 non-null  float64\n",
      " 11  Fwd Pkt Len Std    408558 non-null  float64\n",
      " 12  Bwd Pkt Len Max    408558 non-null  int64  \n",
      " 13  Bwd Pkt Len Min    408558 non-null  int64  \n",
      " 14  Bwd Pkt Len Mean   408558 non-null  float64\n",
      " 15  Bwd Pkt Len Std    408558 non-null  float64\n",
      " 16  Flow Byts/s        408558 non-null  float64\n",
      " 17  Flow Pkts/s        408558 non-null  float64\n",
      " 18  Flow IAT Mean      408558 non-null  float64\n",
      " 19  Flow IAT Std       408558 non-null  float64\n",
      " 20  Flow IAT Max       408558 non-null  int64  \n",
      " 21  Flow IAT Min       408558 non-null  int64  \n",
      " 22  Fwd IAT Tot        408558 non-null  int64  \n",
      " 23  Fwd IAT Mean       408558 non-null  float64\n",
      " 24  Fwd IAT Std        408558 non-null  float64\n",
      " 25  Fwd IAT Max        408558 non-null  int64  \n",
      " 26  Fwd IAT Min        408558 non-null  int64  \n",
      " 27  Bwd IAT Tot        408558 non-null  int64  \n",
      " 28  Bwd IAT Mean       408558 non-null  float64\n",
      " 29  Bwd IAT Std        408558 non-null  float64\n",
      " 30  Bwd IAT Max        408558 non-null  int64  \n",
      " 31  Bwd IAT Min        408558 non-null  int64  \n",
      " 32  Fwd PSH Flags      408558 non-null  int64  \n",
      " 33  Bwd PSH Flags      408558 non-null  int64  \n",
      " 34  Fwd URG Flags      408558 non-null  int64  \n",
      " 35  Bwd URG Flags      408558 non-null  int64  \n",
      " 36  Fwd Header Len     408558 non-null  int64  \n",
      " 37  Bwd Header Len     408558 non-null  int64  \n",
      " 38  Fwd Pkts/s         408558 non-null  float64\n",
      " 39  Bwd Pkts/s         408558 non-null  float64\n",
      " 40  Pkt Len Min        408558 non-null  int64  \n",
      " 41  Pkt Len Max        408558 non-null  int64  \n",
      " 42  Pkt Len Mean       408558 non-null  float64\n",
      " 43  Pkt Len Std        408558 non-null  float64\n",
      " 44  Pkt Len Var        408558 non-null  float64\n",
      " 45  FIN Flag Cnt       408558 non-null  int64  \n",
      " 46  SYN Flag Cnt       408558 non-null  int64  \n",
      " 47  RST Flag Cnt       408558 non-null  int64  \n",
      " 48  PSH Flag Cnt       408558 non-null  int64  \n",
      " 49  ACK Flag Cnt       408558 non-null  int64  \n",
      " 50  URG Flag Cnt       408558 non-null  int64  \n",
      " 51  CWE Flag Count     408558 non-null  int64  \n",
      " 52  ECE Flag Cnt       408558 non-null  int64  \n",
      " 53  Pkt Size Avg       408558 non-null  float64\n",
      " 54  Fwd Seg Size Avg   408558 non-null  float64\n",
      " 55  Bwd Seg Size Avg   408558 non-null  float64\n",
      " 56  Fwd Byts/b Avg     408558 non-null  int64  \n",
      " 57  Fwd Pkts/b Avg     408558 non-null  int64  \n",
      " 58  Fwd Blk Rate Avg   408558 non-null  int64  \n",
      " 59  Bwd Byts/b Avg     408558 non-null  int64  \n",
      " 60  Bwd Pkts/b Avg     408558 non-null  int64  \n",
      " 61  Bwd Blk Rate Avg   408558 non-null  int64  \n",
      " 62  Subflow Fwd Pkts   408558 non-null  int64  \n",
      " 63  Subflow Fwd Byts   408558 non-null  int64  \n",
      " 64  Subflow Bwd Pkts   408558 non-null  int64  \n",
      " 65  Subflow Bwd Byts   408558 non-null  int64  \n",
      " 66  Init Fwd Win Byts  408558 non-null  int64  \n",
      " 67  Init Bwd Win Byts  408558 non-null  int64  \n",
      " 68  Fwd Act Data Pkts  408558 non-null  int64  \n",
      " 69  Fwd Seg Size Min   408558 non-null  int64  \n",
      " 70  Active Mean        408558 non-null  float64\n",
      " 71  Active Std         408558 non-null  float64\n",
      " 72  Active Max         408558 non-null  int64  \n",
      " 73  Active Min         408558 non-null  int64  \n",
      " 74  Idle Mean          408558 non-null  float64\n",
      " 75  Idle Std           408558 non-null  float64\n",
      " 76  Idle Max           408558 non-null  int64  \n",
      " 77  Idle Min           408558 non-null  int64  \n",
      " 78  Label              408558 non-null  int64  \n",
      "dtypes: float64(24), int64(55)\n",
      "memory usage: 249.4 MB\n"
     ]
    }
   ],
   "source": [
    "# feature info\n",
    "train.info()"
   ]
  },
  {
   "cell_type": "markdown",
   "id": "146f3d43",
   "metadata": {
    "papermill": {
     "duration": 0.021232,
     "end_time": "2024-10-13T09:48:41.706818",
     "exception": false,
     "start_time": "2024-10-13T09:48:41.685586",
     "status": "completed"
    },
    "tags": []
   },
   "source": [
    "# Feature scaling"
   ]
  },
  {
   "cell_type": "code",
   "execution_count": 21,
   "id": "e3738192",
   "metadata": {
    "execution": {
     "iopub.execute_input": "2024-10-13T09:48:41.751386Z",
     "iopub.status.busy": "2024-10-13T09:48:41.750567Z",
     "iopub.status.idle": "2024-10-13T09:48:41.978329Z",
     "shell.execute_reply": "2024-10-13T09:48:41.977240Z"
    },
    "papermill": {
     "duration": 0.252636,
     "end_time": "2024-10-13T09:48:41.980742",
     "exception": false,
     "start_time": "2024-10-13T09:48:41.728106",
     "status": "completed"
    },
    "tags": []
   },
   "outputs": [],
   "source": [
    "min_max_scaler = MinMaxScaler().fit(train[['Flow Duration', 'Tot Fwd Pkts',\n",
    "       'Tot Bwd Pkts', 'TotLen Fwd Pkts', 'TotLen Bwd Pkts', 'Fwd Pkt Len Max',\n",
    "       'Fwd Pkt Len Min', 'Fwd Pkt Len Mean', 'Fwd Pkt Len Std',\n",
    "       'Bwd Pkt Len Max', 'Bwd Pkt Len Min', 'Bwd Pkt Len Mean',\n",
    "       'Bwd Pkt Len Std', 'Flow Byts/s', 'Flow Pkts/s', 'Flow IAT Mean',\n",
    "       'Flow IAT Std', 'Flow IAT Max', 'Flow IAT Min', 'Fwd IAT Tot',\n",
    "       'Fwd IAT Mean', 'Fwd IAT Std', 'Fwd IAT Max', 'Fwd IAT Min',\n",
    "       'Bwd IAT Tot', 'Bwd IAT Mean', 'Bwd IAT Std', 'Bwd IAT Max',\n",
    "       'Bwd IAT Min', 'Fwd PSH Flags', 'Bwd PSH Flags', 'Fwd URG Flags',\n",
    "       'Bwd URG Flags', 'Fwd Header Len', 'Bwd Header Len', 'Fwd Pkts/s',\n",
    "       'Bwd Pkts/s', 'Pkt Len Min', 'Pkt Len Max', 'Pkt Len Mean',\n",
    "       'Pkt Len Std', 'Pkt Len Var', 'FIN Flag Cnt', 'SYN Flag Cnt',\n",
    "       'RST Flag Cnt', 'PSH Flag Cnt', 'ACK Flag Cnt', 'URG Flag Cnt',\n",
    "       'CWE Flag Count', 'ECE Flag Cnt', 'Pkt Size Avg',\n",
    "       'Fwd Seg Size Avg', 'Bwd Seg Size Avg', 'Fwd Byts/b Avg',\n",
    "       'Fwd Pkts/b Avg', 'Fwd Blk Rate Avg', 'Bwd Byts/b Avg',\n",
    "       'Bwd Pkts/b Avg', 'Bwd Blk Rate Avg', 'Subflow Fwd Pkts',\n",
    "       'Subflow Fwd Byts', 'Subflow Bwd Pkts', 'Subflow Bwd Byts',\n",
    "       'Init Fwd Win Byts', 'Init Bwd Win Byts', 'Fwd Act Data Pkts',\n",
    "       'Fwd Seg Size Min', 'Active Mean', 'Active Std', 'Active Max',\n",
    "       'Active Min', 'Idle Mean', 'Idle Std', 'Idle Max', 'Idle Min']])"
   ]
  },
  {
   "cell_type": "code",
   "execution_count": 22,
   "id": "33748bf3",
   "metadata": {
    "execution": {
     "iopub.execute_input": "2024-10-13T09:48:42.030015Z",
     "iopub.status.busy": "2024-10-13T09:48:42.029602Z",
     "iopub.status.idle": "2024-10-13T09:48:42.036998Z",
     "shell.execute_reply": "2024-10-13T09:48:42.035769Z"
    },
    "papermill": {
     "duration": 0.033154,
     "end_time": "2024-10-13T09:48:42.039354",
     "exception": false,
     "start_time": "2024-10-13T09:48:42.006200",
     "status": "completed"
    },
    "tags": []
   },
   "outputs": [],
   "source": [
    "numerical_columns = ['Flow Duration', 'Tot Fwd Pkts',\n",
    "       'Tot Bwd Pkts', 'TotLen Fwd Pkts', 'TotLen Bwd Pkts', 'Fwd Pkt Len Max',\n",
    "       'Fwd Pkt Len Min', 'Fwd Pkt Len Mean', 'Fwd Pkt Len Std',\n",
    "       'Bwd Pkt Len Max', 'Bwd Pkt Len Min', 'Bwd Pkt Len Mean',\n",
    "       'Bwd Pkt Len Std', 'Flow Byts/s', 'Flow Pkts/s', 'Flow IAT Mean',\n",
    "       'Flow IAT Std', 'Flow IAT Max', 'Flow IAT Min', 'Fwd IAT Tot',\n",
    "       'Fwd IAT Mean', 'Fwd IAT Std', 'Fwd IAT Max', 'Fwd IAT Min',\n",
    "       'Bwd IAT Tot', 'Bwd IAT Mean', 'Bwd IAT Std', 'Bwd IAT Max',\n",
    "       'Bwd IAT Min', 'Fwd PSH Flags', 'Bwd PSH Flags', 'Fwd URG Flags',\n",
    "       'Bwd URG Flags', 'Fwd Header Len', 'Bwd Header Len', 'Fwd Pkts/s',\n",
    "       'Bwd Pkts/s', 'Pkt Len Min', 'Pkt Len Max', 'Pkt Len Mean',\n",
    "       'Pkt Len Std', 'Pkt Len Var', 'FIN Flag Cnt', 'SYN Flag Cnt',\n",
    "       'RST Flag Cnt', 'PSH Flag Cnt', 'ACK Flag Cnt', 'URG Flag Cnt',\n",
    "       'CWE Flag Count', 'ECE Flag Cnt', 'Pkt Size Avg',\n",
    "       'Fwd Seg Size Avg', 'Bwd Seg Size Avg', 'Fwd Byts/b Avg',\n",
    "       'Fwd Pkts/b Avg', 'Fwd Blk Rate Avg', 'Bwd Byts/b Avg',\n",
    "       'Bwd Pkts/b Avg', 'Bwd Blk Rate Avg', 'Subflow Fwd Pkts',\n",
    "       'Subflow Fwd Byts', 'Subflow Bwd Pkts', 'Subflow Bwd Byts',\n",
    "       'Init Fwd Win Byts', 'Init Bwd Win Byts', 'Fwd Act Data Pkts',\n",
    "       'Fwd Seg Size Min', 'Active Mean', 'Active Std', 'Active Max',\n",
    "       'Active Min', 'Idle Mean', 'Idle Std', 'Idle Max', 'Idle Min']"
   ]
  },
  {
   "cell_type": "code",
   "execution_count": 23,
   "id": "3c3c0ffd",
   "metadata": {
    "execution": {
     "iopub.execute_input": "2024-10-13T09:48:42.084608Z",
     "iopub.status.busy": "2024-10-13T09:48:42.083859Z",
     "iopub.status.idle": "2024-10-13T09:48:44.676103Z",
     "shell.execute_reply": "2024-10-13T09:48:44.675007Z"
    },
    "papermill": {
     "duration": 2.617626,
     "end_time": "2024-10-13T09:48:44.678618",
     "exception": false,
     "start_time": "2024-10-13T09:48:42.060992",
     "status": "completed"
    },
    "tags": []
   },
   "outputs": [],
   "source": [
    "train[numerical_columns] = min_max_scaler.transform(train[numerical_columns])"
   ]
  },
  {
   "cell_type": "code",
   "execution_count": 24,
   "id": "e82a6a5f",
   "metadata": {
    "execution": {
     "iopub.execute_input": "2024-10-13T09:48:44.723514Z",
     "iopub.status.busy": "2024-10-13T09:48:44.722828Z",
     "iopub.status.idle": "2024-10-13T09:48:44.961498Z",
     "shell.execute_reply": "2024-10-13T09:48:44.960396Z"
    },
    "papermill": {
     "duration": 0.263617,
     "end_time": "2024-10-13T09:48:44.963824",
     "exception": false,
     "start_time": "2024-10-13T09:48:44.700207",
     "status": "completed"
    },
    "tags": []
   },
   "outputs": [
    {
     "data": {
      "text/html": [
       "<div>\n",
       "<style scoped>\n",
       "    .dataframe tbody tr th:only-of-type {\n",
       "        vertical-align: middle;\n",
       "    }\n",
       "\n",
       "    .dataframe tbody tr th {\n",
       "        vertical-align: top;\n",
       "    }\n",
       "\n",
       "    .dataframe thead th {\n",
       "        text-align: right;\n",
       "    }\n",
       "</style>\n",
       "<table border=\"1\" class=\"dataframe\">\n",
       "  <thead>\n",
       "    <tr style=\"text-align: right;\">\n",
       "      <th></th>\n",
       "      <th>Unnamed: 0</th>\n",
       "      <th>Dst Port</th>\n",
       "      <th>Protocol</th>\n",
       "      <th>Flow Duration</th>\n",
       "      <th>Tot Fwd Pkts</th>\n",
       "      <th>Tot Bwd Pkts</th>\n",
       "      <th>TotLen Fwd Pkts</th>\n",
       "      <th>TotLen Bwd Pkts</th>\n",
       "      <th>Fwd Pkt Len Max</th>\n",
       "      <th>Fwd Pkt Len Min</th>\n",
       "      <th>...</th>\n",
       "      <th>Fwd Seg Size Min</th>\n",
       "      <th>Active Mean</th>\n",
       "      <th>Active Std</th>\n",
       "      <th>Active Max</th>\n",
       "      <th>Active Min</th>\n",
       "      <th>Idle Mean</th>\n",
       "      <th>Idle Std</th>\n",
       "      <th>Idle Max</th>\n",
       "      <th>Idle Min</th>\n",
       "      <th>Label</th>\n",
       "    </tr>\n",
       "  </thead>\n",
       "  <tbody>\n",
       "    <tr>\n",
       "      <th>625218</th>\n",
       "      <td>77892</td>\n",
       "      <td>8080</td>\n",
       "      <td>6</td>\n",
       "      <td>0.000004</td>\n",
       "      <td>0.503273</td>\n",
       "      <td>0.539847</td>\n",
       "      <td>0.000000</td>\n",
       "      <td>0.000000</td>\n",
       "      <td>0.000000</td>\n",
       "      <td>0.0</td>\n",
       "      <td>...</td>\n",
       "      <td>0.454545</td>\n",
       "      <td>0.0</td>\n",
       "      <td>0.0</td>\n",
       "      <td>0.0</td>\n",
       "      <td>0.0</td>\n",
       "      <td>0.000000</td>\n",
       "      <td>0.0</td>\n",
       "      <td>0.000000</td>\n",
       "      <td>0.000000</td>\n",
       "      <td>1</td>\n",
       "    </tr>\n",
       "    <tr>\n",
       "      <th>332506</th>\n",
       "      <td>138648</td>\n",
       "      <td>445</td>\n",
       "      <td>6</td>\n",
       "      <td>0.002345</td>\n",
       "      <td>0.503289</td>\n",
       "      <td>0.539864</td>\n",
       "      <td>0.000000</td>\n",
       "      <td>0.000000</td>\n",
       "      <td>0.000000</td>\n",
       "      <td>0.0</td>\n",
       "      <td>...</td>\n",
       "      <td>0.454545</td>\n",
       "      <td>0.0</td>\n",
       "      <td>0.0</td>\n",
       "      <td>0.0</td>\n",
       "      <td>0.0</td>\n",
       "      <td>0.000000</td>\n",
       "      <td>0.0</td>\n",
       "      <td>0.000000</td>\n",
       "      <td>0.000000</td>\n",
       "      <td>0</td>\n",
       "    </tr>\n",
       "    <tr>\n",
       "      <th>193782</th>\n",
       "      <td>637114</td>\n",
       "      <td>3389</td>\n",
       "      <td>6</td>\n",
       "      <td>0.019377</td>\n",
       "      <td>0.503366</td>\n",
       "      <td>0.539985</td>\n",
       "      <td>0.000129</td>\n",
       "      <td>0.000032</td>\n",
       "      <td>0.014890</td>\n",
       "      <td>0.0</td>\n",
       "      <td>...</td>\n",
       "      <td>0.454545</td>\n",
       "      <td>0.0</td>\n",
       "      <td>0.0</td>\n",
       "      <td>0.0</td>\n",
       "      <td>0.0</td>\n",
       "      <td>0.000000</td>\n",
       "      <td>0.0</td>\n",
       "      <td>0.000000</td>\n",
       "      <td>0.000000</td>\n",
       "      <td>0</td>\n",
       "    </tr>\n",
       "    <tr>\n",
       "      <th>7294</th>\n",
       "      <td>80604</td>\n",
       "      <td>3389</td>\n",
       "      <td>6</td>\n",
       "      <td>0.032377</td>\n",
       "      <td>0.503443</td>\n",
       "      <td>0.539985</td>\n",
       "      <td>0.000165</td>\n",
       "      <td>0.000035</td>\n",
       "      <td>0.016332</td>\n",
       "      <td>0.0</td>\n",
       "      <td>...</td>\n",
       "      <td>0.454545</td>\n",
       "      <td>0.0</td>\n",
       "      <td>0.0</td>\n",
       "      <td>0.0</td>\n",
       "      <td>0.0</td>\n",
       "      <td>0.000000</td>\n",
       "      <td>0.0</td>\n",
       "      <td>0.000000</td>\n",
       "      <td>0.000000</td>\n",
       "      <td>0</td>\n",
       "    </tr>\n",
       "    <tr>\n",
       "      <th>59431</th>\n",
       "      <td>692110</td>\n",
       "      <td>443</td>\n",
       "      <td>6</td>\n",
       "      <td>0.000004</td>\n",
       "      <td>0.503289</td>\n",
       "      <td>0.539847</td>\n",
       "      <td>0.000009</td>\n",
       "      <td>0.000000</td>\n",
       "      <td>0.001036</td>\n",
       "      <td>0.0</td>\n",
       "      <td>...</td>\n",
       "      <td>0.454545</td>\n",
       "      <td>0.0</td>\n",
       "      <td>0.0</td>\n",
       "      <td>0.0</td>\n",
       "      <td>0.0</td>\n",
       "      <td>0.000000</td>\n",
       "      <td>0.0</td>\n",
       "      <td>0.000000</td>\n",
       "      <td>0.000000</td>\n",
       "      <td>0</td>\n",
       "    </tr>\n",
       "    <tr>\n",
       "      <th>...</th>\n",
       "      <td>...</td>\n",
       "      <td>...</td>\n",
       "      <td>...</td>\n",
       "      <td>...</td>\n",
       "      <td>...</td>\n",
       "      <td>...</td>\n",
       "      <td>...</td>\n",
       "      <td>...</td>\n",
       "      <td>...</td>\n",
       "      <td>...</td>\n",
       "      <td>...</td>\n",
       "      <td>...</td>\n",
       "      <td>...</td>\n",
       "      <td>...</td>\n",
       "      <td>...</td>\n",
       "      <td>...</td>\n",
       "      <td>...</td>\n",
       "      <td>...</td>\n",
       "      <td>...</td>\n",
       "      <td>...</td>\n",
       "      <td>...</td>\n",
       "    </tr>\n",
       "    <tr>\n",
       "      <th>1220901</th>\n",
       "      <td>785822</td>\n",
       "      <td>80</td>\n",
       "      <td>6</td>\n",
       "      <td>0.000012</td>\n",
       "      <td>0.503273</td>\n",
       "      <td>0.539847</td>\n",
       "      <td>0.000000</td>\n",
       "      <td>0.000000</td>\n",
       "      <td>0.000000</td>\n",
       "      <td>0.0</td>\n",
       "      <td>...</td>\n",
       "      <td>0.454545</td>\n",
       "      <td>0.0</td>\n",
       "      <td>0.0</td>\n",
       "      <td>0.0</td>\n",
       "      <td>0.0</td>\n",
       "      <td>0.000000</td>\n",
       "      <td>0.0</td>\n",
       "      <td>0.000000</td>\n",
       "      <td>0.000000</td>\n",
       "      <td>1</td>\n",
       "    </tr>\n",
       "    <tr>\n",
       "      <th>152029</th>\n",
       "      <td>457760</td>\n",
       "      <td>445</td>\n",
       "      <td>6</td>\n",
       "      <td>0.004850</td>\n",
       "      <td>0.503351</td>\n",
       "      <td>0.539934</td>\n",
       "      <td>0.000042</td>\n",
       "      <td>0.000012</td>\n",
       "      <td>0.002320</td>\n",
       "      <td>0.0</td>\n",
       "      <td>...</td>\n",
       "      <td>0.454545</td>\n",
       "      <td>0.0</td>\n",
       "      <td>0.0</td>\n",
       "      <td>0.0</td>\n",
       "      <td>0.0</td>\n",
       "      <td>0.000000</td>\n",
       "      <td>0.0</td>\n",
       "      <td>0.000000</td>\n",
       "      <td>0.000000</td>\n",
       "      <td>0</td>\n",
       "    </tr>\n",
       "    <tr>\n",
       "      <th>106734</th>\n",
       "      <td>237762</td>\n",
       "      <td>38561</td>\n",
       "      <td>6</td>\n",
       "      <td>0.717177</td>\n",
       "      <td>0.503273</td>\n",
       "      <td>0.539847</td>\n",
       "      <td>0.000000</td>\n",
       "      <td>0.000000</td>\n",
       "      <td>0.000000</td>\n",
       "      <td>0.0</td>\n",
       "      <td>...</td>\n",
       "      <td>0.454545</td>\n",
       "      <td>0.0</td>\n",
       "      <td>0.0</td>\n",
       "      <td>0.0</td>\n",
       "      <td>0.0</td>\n",
       "      <td>0.717177</td>\n",
       "      <td>0.0</td>\n",
       "      <td>0.717177</td>\n",
       "      <td>0.717177</td>\n",
       "      <td>0</td>\n",
       "    </tr>\n",
       "    <tr>\n",
       "      <th>154737</th>\n",
       "      <td>591147</td>\n",
       "      <td>80</td>\n",
       "      <td>6</td>\n",
       "      <td>0.000008</td>\n",
       "      <td>0.503289</td>\n",
       "      <td>0.539916</td>\n",
       "      <td>0.000018</td>\n",
       "      <td>0.000010</td>\n",
       "      <td>0.003627</td>\n",
       "      <td>0.0</td>\n",
       "      <td>...</td>\n",
       "      <td>0.454545</td>\n",
       "      <td>0.0</td>\n",
       "      <td>0.0</td>\n",
       "      <td>0.0</td>\n",
       "      <td>0.0</td>\n",
       "      <td>0.000000</td>\n",
       "      <td>0.0</td>\n",
       "      <td>0.000000</td>\n",
       "      <td>0.000000</td>\n",
       "      <td>0</td>\n",
       "    </tr>\n",
       "    <tr>\n",
       "      <th>188878</th>\n",
       "      <td>521157</td>\n",
       "      <td>80</td>\n",
       "      <td>6</td>\n",
       "      <td>0.000002</td>\n",
       "      <td>0.503273</td>\n",
       "      <td>0.539847</td>\n",
       "      <td>0.000000</td>\n",
       "      <td>0.000000</td>\n",
       "      <td>0.000000</td>\n",
       "      <td>0.0</td>\n",
       "      <td>...</td>\n",
       "      <td>0.454545</td>\n",
       "      <td>0.0</td>\n",
       "      <td>0.0</td>\n",
       "      <td>0.0</td>\n",
       "      <td>0.0</td>\n",
       "      <td>0.000000</td>\n",
       "      <td>0.0</td>\n",
       "      <td>0.000000</td>\n",
       "      <td>0.000000</td>\n",
       "      <td>0</td>\n",
       "    </tr>\n",
       "  </tbody>\n",
       "</table>\n",
       "<p>408558 rows × 79 columns</p>\n",
       "</div>"
      ],
      "text/plain": [
       "         Unnamed: 0  Dst Port  Protocol  Flow Duration  Tot Fwd Pkts  \\\n",
       "625218        77892      8080         6       0.000004      0.503273   \n",
       "332506       138648       445         6       0.002345      0.503289   \n",
       "193782       637114      3389         6       0.019377      0.503366   \n",
       "7294          80604      3389         6       0.032377      0.503443   \n",
       "59431        692110       443         6       0.000004      0.503289   \n",
       "...             ...       ...       ...            ...           ...   \n",
       "1220901      785822        80         6       0.000012      0.503273   \n",
       "152029       457760       445         6       0.004850      0.503351   \n",
       "106734       237762     38561         6       0.717177      0.503273   \n",
       "154737       591147        80         6       0.000008      0.503289   \n",
       "188878       521157        80         6       0.000002      0.503273   \n",
       "\n",
       "         Tot Bwd Pkts  TotLen Fwd Pkts  TotLen Bwd Pkts  Fwd Pkt Len Max  \\\n",
       "625218       0.539847         0.000000         0.000000         0.000000   \n",
       "332506       0.539864         0.000000         0.000000         0.000000   \n",
       "193782       0.539985         0.000129         0.000032         0.014890   \n",
       "7294         0.539985         0.000165         0.000035         0.016332   \n",
       "59431        0.539847         0.000009         0.000000         0.001036   \n",
       "...               ...              ...              ...              ...   \n",
       "1220901      0.539847         0.000000         0.000000         0.000000   \n",
       "152029       0.539934         0.000042         0.000012         0.002320   \n",
       "106734       0.539847         0.000000         0.000000         0.000000   \n",
       "154737       0.539916         0.000018         0.000010         0.003627   \n",
       "188878       0.539847         0.000000         0.000000         0.000000   \n",
       "\n",
       "         Fwd Pkt Len Min  ...  Fwd Seg Size Min  Active Mean  Active Std  \\\n",
       "625218               0.0  ...          0.454545          0.0         0.0   \n",
       "332506               0.0  ...          0.454545          0.0         0.0   \n",
       "193782               0.0  ...          0.454545          0.0         0.0   \n",
       "7294                 0.0  ...          0.454545          0.0         0.0   \n",
       "59431                0.0  ...          0.454545          0.0         0.0   \n",
       "...                  ...  ...               ...          ...         ...   \n",
       "1220901              0.0  ...          0.454545          0.0         0.0   \n",
       "152029               0.0  ...          0.454545          0.0         0.0   \n",
       "106734               0.0  ...          0.454545          0.0         0.0   \n",
       "154737               0.0  ...          0.454545          0.0         0.0   \n",
       "188878               0.0  ...          0.454545          0.0         0.0   \n",
       "\n",
       "         Active Max  Active Min  Idle Mean  Idle Std  Idle Max  Idle Min  \\\n",
       "625218          0.0         0.0   0.000000       0.0  0.000000  0.000000   \n",
       "332506          0.0         0.0   0.000000       0.0  0.000000  0.000000   \n",
       "193782          0.0         0.0   0.000000       0.0  0.000000  0.000000   \n",
       "7294            0.0         0.0   0.000000       0.0  0.000000  0.000000   \n",
       "59431           0.0         0.0   0.000000       0.0  0.000000  0.000000   \n",
       "...             ...         ...        ...       ...       ...       ...   \n",
       "1220901         0.0         0.0   0.000000       0.0  0.000000  0.000000   \n",
       "152029          0.0         0.0   0.000000       0.0  0.000000  0.000000   \n",
       "106734          0.0         0.0   0.717177       0.0  0.717177  0.717177   \n",
       "154737          0.0         0.0   0.000000       0.0  0.000000  0.000000   \n",
       "188878          0.0         0.0   0.000000       0.0  0.000000  0.000000   \n",
       "\n",
       "         Label  \n",
       "625218       1  \n",
       "332506       0  \n",
       "193782       0  \n",
       "7294         0  \n",
       "59431        0  \n",
       "...        ...  \n",
       "1220901      1  \n",
       "152029       0  \n",
       "106734       0  \n",
       "154737       0  \n",
       "188878       0  \n",
       "\n",
       "[408558 rows x 79 columns]"
      ]
     },
     "execution_count": 24,
     "metadata": {},
     "output_type": "execute_result"
    }
   ],
   "source": [
    "train"
   ]
  },
  {
   "cell_type": "code",
   "execution_count": 25,
   "id": "34851c4d",
   "metadata": {
    "execution": {
     "iopub.execute_input": "2024-10-13T09:48:45.011322Z",
     "iopub.status.busy": "2024-10-13T09:48:45.010613Z",
     "iopub.status.idle": "2024-10-13T09:48:45.264782Z",
     "shell.execute_reply": "2024-10-13T09:48:45.263657Z"
    },
    "papermill": {
     "duration": 0.280558,
     "end_time": "2024-10-13T09:48:45.267263",
     "exception": false,
     "start_time": "2024-10-13T09:48:44.986705",
     "status": "completed"
    },
    "tags": []
   },
   "outputs": [],
   "source": [
    "train.drop(['Unnamed: 0'], axis=1,inplace=True)\n",
    "test.drop(['Unnamed: 0'],axis=1,inplace=True)"
   ]
  },
  {
   "cell_type": "code",
   "execution_count": 26,
   "id": "d702b192",
   "metadata": {
    "execution": {
     "iopub.execute_input": "2024-10-13T09:48:45.313426Z",
     "iopub.status.busy": "2024-10-13T09:48:45.312606Z",
     "iopub.status.idle": "2024-10-13T09:48:45.414813Z",
     "shell.execute_reply": "2024-10-13T09:48:45.413681Z"
    },
    "papermill": {
     "duration": 0.127593,
     "end_time": "2024-10-13T09:48:45.417015",
     "exception": false,
     "start_time": "2024-10-13T09:48:45.289422",
     "status": "completed"
    },
    "tags": []
   },
   "outputs": [
    {
     "data": {
      "text/html": [
       "<div>\n",
       "<style scoped>\n",
       "    .dataframe tbody tr th:only-of-type {\n",
       "        vertical-align: middle;\n",
       "    }\n",
       "\n",
       "    .dataframe tbody tr th {\n",
       "        vertical-align: top;\n",
       "    }\n",
       "\n",
       "    .dataframe thead th {\n",
       "        text-align: right;\n",
       "    }\n",
       "</style>\n",
       "<table border=\"1\" class=\"dataframe\">\n",
       "  <thead>\n",
       "    <tr style=\"text-align: right;\">\n",
       "      <th></th>\n",
       "      <th>Dst Port</th>\n",
       "      <th>Protocol</th>\n",
       "      <th>Flow Duration</th>\n",
       "      <th>Tot Fwd Pkts</th>\n",
       "      <th>Tot Bwd Pkts</th>\n",
       "      <th>TotLen Fwd Pkts</th>\n",
       "      <th>TotLen Bwd Pkts</th>\n",
       "      <th>Fwd Pkt Len Max</th>\n",
       "      <th>Fwd Pkt Len Min</th>\n",
       "      <th>Fwd Pkt Len Mean</th>\n",
       "      <th>...</th>\n",
       "      <th>Fwd Seg Size Min</th>\n",
       "      <th>Active Mean</th>\n",
       "      <th>Active Std</th>\n",
       "      <th>Active Max</th>\n",
       "      <th>Active Min</th>\n",
       "      <th>Idle Mean</th>\n",
       "      <th>Idle Std</th>\n",
       "      <th>Idle Max</th>\n",
       "      <th>Idle Min</th>\n",
       "      <th>Label</th>\n",
       "    </tr>\n",
       "  </thead>\n",
       "  <tbody>\n",
       "    <tr>\n",
       "      <th>625218</th>\n",
       "      <td>8080</td>\n",
       "      <td>6</td>\n",
       "      <td>0.000004</td>\n",
       "      <td>0.503273</td>\n",
       "      <td>0.539847</td>\n",
       "      <td>0.000000</td>\n",
       "      <td>0.000000</td>\n",
       "      <td>0.000000</td>\n",
       "      <td>0.0</td>\n",
       "      <td>0.000000</td>\n",
       "      <td>...</td>\n",
       "      <td>0.454545</td>\n",
       "      <td>0.0</td>\n",
       "      <td>0.0</td>\n",
       "      <td>0.0</td>\n",
       "      <td>0.0</td>\n",
       "      <td>0.000000</td>\n",
       "      <td>0.0</td>\n",
       "      <td>0.000000</td>\n",
       "      <td>0.000000</td>\n",
       "      <td>1</td>\n",
       "    </tr>\n",
       "    <tr>\n",
       "      <th>332506</th>\n",
       "      <td>445</td>\n",
       "      <td>6</td>\n",
       "      <td>0.002345</td>\n",
       "      <td>0.503289</td>\n",
       "      <td>0.539864</td>\n",
       "      <td>0.000000</td>\n",
       "      <td>0.000000</td>\n",
       "      <td>0.000000</td>\n",
       "      <td>0.0</td>\n",
       "      <td>0.000000</td>\n",
       "      <td>...</td>\n",
       "      <td>0.454545</td>\n",
       "      <td>0.0</td>\n",
       "      <td>0.0</td>\n",
       "      <td>0.0</td>\n",
       "      <td>0.0</td>\n",
       "      <td>0.000000</td>\n",
       "      <td>0.0</td>\n",
       "      <td>0.000000</td>\n",
       "      <td>0.000000</td>\n",
       "      <td>0</td>\n",
       "    </tr>\n",
       "    <tr>\n",
       "      <th>193782</th>\n",
       "      <td>3389</td>\n",
       "      <td>6</td>\n",
       "      <td>0.019377</td>\n",
       "      <td>0.503366</td>\n",
       "      <td>0.539985</td>\n",
       "      <td>0.000129</td>\n",
       "      <td>0.000032</td>\n",
       "      <td>0.014890</td>\n",
       "      <td>0.0</td>\n",
       "      <td>0.023868</td>\n",
       "      <td>...</td>\n",
       "      <td>0.454545</td>\n",
       "      <td>0.0</td>\n",
       "      <td>0.0</td>\n",
       "      <td>0.0</td>\n",
       "      <td>0.0</td>\n",
       "      <td>0.000000</td>\n",
       "      <td>0.0</td>\n",
       "      <td>0.000000</td>\n",
       "      <td>0.000000</td>\n",
       "      <td>0</td>\n",
       "    </tr>\n",
       "    <tr>\n",
       "      <th>7294</th>\n",
       "      <td>3389</td>\n",
       "      <td>6</td>\n",
       "      <td>0.032377</td>\n",
       "      <td>0.503443</td>\n",
       "      <td>0.539985</td>\n",
       "      <td>0.000165</td>\n",
       "      <td>0.000035</td>\n",
       "      <td>0.016332</td>\n",
       "      <td>0.0</td>\n",
       "      <td>0.018763</td>\n",
       "      <td>...</td>\n",
       "      <td>0.454545</td>\n",
       "      <td>0.0</td>\n",
       "      <td>0.0</td>\n",
       "      <td>0.0</td>\n",
       "      <td>0.0</td>\n",
       "      <td>0.000000</td>\n",
       "      <td>0.0</td>\n",
       "      <td>0.000000</td>\n",
       "      <td>0.000000</td>\n",
       "      <td>0</td>\n",
       "    </tr>\n",
       "    <tr>\n",
       "      <th>59431</th>\n",
       "      <td>443</td>\n",
       "      <td>6</td>\n",
       "      <td>0.000004</td>\n",
       "      <td>0.503289</td>\n",
       "      <td>0.539847</td>\n",
       "      <td>0.000009</td>\n",
       "      <td>0.000000</td>\n",
       "      <td>0.001036</td>\n",
       "      <td>0.0</td>\n",
       "      <td>0.004345</td>\n",
       "      <td>...</td>\n",
       "      <td>0.454545</td>\n",
       "      <td>0.0</td>\n",
       "      <td>0.0</td>\n",
       "      <td>0.0</td>\n",
       "      <td>0.0</td>\n",
       "      <td>0.000000</td>\n",
       "      <td>0.0</td>\n",
       "      <td>0.000000</td>\n",
       "      <td>0.000000</td>\n",
       "      <td>0</td>\n",
       "    </tr>\n",
       "    <tr>\n",
       "      <th>...</th>\n",
       "      <td>...</td>\n",
       "      <td>...</td>\n",
       "      <td>...</td>\n",
       "      <td>...</td>\n",
       "      <td>...</td>\n",
       "      <td>...</td>\n",
       "      <td>...</td>\n",
       "      <td>...</td>\n",
       "      <td>...</td>\n",
       "      <td>...</td>\n",
       "      <td>...</td>\n",
       "      <td>...</td>\n",
       "      <td>...</td>\n",
       "      <td>...</td>\n",
       "      <td>...</td>\n",
       "      <td>...</td>\n",
       "      <td>...</td>\n",
       "      <td>...</td>\n",
       "      <td>...</td>\n",
       "      <td>...</td>\n",
       "      <td>...</td>\n",
       "    </tr>\n",
       "    <tr>\n",
       "      <th>1220901</th>\n",
       "      <td>80</td>\n",
       "      <td>6</td>\n",
       "      <td>0.000012</td>\n",
       "      <td>0.503273</td>\n",
       "      <td>0.539847</td>\n",
       "      <td>0.000000</td>\n",
       "      <td>0.000000</td>\n",
       "      <td>0.000000</td>\n",
       "      <td>0.0</td>\n",
       "      <td>0.000000</td>\n",
       "      <td>...</td>\n",
       "      <td>0.454545</td>\n",
       "      <td>0.0</td>\n",
       "      <td>0.0</td>\n",
       "      <td>0.0</td>\n",
       "      <td>0.0</td>\n",
       "      <td>0.000000</td>\n",
       "      <td>0.0</td>\n",
       "      <td>0.000000</td>\n",
       "      <td>0.000000</td>\n",
       "      <td>1</td>\n",
       "    </tr>\n",
       "    <tr>\n",
       "      <th>152029</th>\n",
       "      <td>445</td>\n",
       "      <td>6</td>\n",
       "      <td>0.004850</td>\n",
       "      <td>0.503351</td>\n",
       "      <td>0.539934</td>\n",
       "      <td>0.000042</td>\n",
       "      <td>0.000012</td>\n",
       "      <td>0.002320</td>\n",
       "      <td>0.0</td>\n",
       "      <td>0.008802</td>\n",
       "      <td>...</td>\n",
       "      <td>0.454545</td>\n",
       "      <td>0.0</td>\n",
       "      <td>0.0</td>\n",
       "      <td>0.0</td>\n",
       "      <td>0.0</td>\n",
       "      <td>0.000000</td>\n",
       "      <td>0.0</td>\n",
       "      <td>0.000000</td>\n",
       "      <td>0.000000</td>\n",
       "      <td>0</td>\n",
       "    </tr>\n",
       "    <tr>\n",
       "      <th>106734</th>\n",
       "      <td>38561</td>\n",
       "      <td>6</td>\n",
       "      <td>0.717177</td>\n",
       "      <td>0.503273</td>\n",
       "      <td>0.539847</td>\n",
       "      <td>0.000000</td>\n",
       "      <td>0.000000</td>\n",
       "      <td>0.000000</td>\n",
       "      <td>0.0</td>\n",
       "      <td>0.000000</td>\n",
       "      <td>...</td>\n",
       "      <td>0.454545</td>\n",
       "      <td>0.0</td>\n",
       "      <td>0.0</td>\n",
       "      <td>0.0</td>\n",
       "      <td>0.0</td>\n",
       "      <td>0.717177</td>\n",
       "      <td>0.0</td>\n",
       "      <td>0.717177</td>\n",
       "      <td>0.717177</td>\n",
       "      <td>0</td>\n",
       "    </tr>\n",
       "    <tr>\n",
       "      <th>154737</th>\n",
       "      <td>80</td>\n",
       "      <td>6</td>\n",
       "      <td>0.000008</td>\n",
       "      <td>0.503289</td>\n",
       "      <td>0.539916</td>\n",
       "      <td>0.000018</td>\n",
       "      <td>0.000010</td>\n",
       "      <td>0.003627</td>\n",
       "      <td>0.0</td>\n",
       "      <td>0.009084</td>\n",
       "      <td>...</td>\n",
       "      <td>0.454545</td>\n",
       "      <td>0.0</td>\n",
       "      <td>0.0</td>\n",
       "      <td>0.0</td>\n",
       "      <td>0.0</td>\n",
       "      <td>0.000000</td>\n",
       "      <td>0.0</td>\n",
       "      <td>0.000000</td>\n",
       "      <td>0.000000</td>\n",
       "      <td>0</td>\n",
       "    </tr>\n",
       "    <tr>\n",
       "      <th>188878</th>\n",
       "      <td>80</td>\n",
       "      <td>6</td>\n",
       "      <td>0.000002</td>\n",
       "      <td>0.503273</td>\n",
       "      <td>0.539847</td>\n",
       "      <td>0.000000</td>\n",
       "      <td>0.000000</td>\n",
       "      <td>0.000000</td>\n",
       "      <td>0.0</td>\n",
       "      <td>0.000000</td>\n",
       "      <td>...</td>\n",
       "      <td>0.454545</td>\n",
       "      <td>0.0</td>\n",
       "      <td>0.0</td>\n",
       "      <td>0.0</td>\n",
       "      <td>0.0</td>\n",
       "      <td>0.000000</td>\n",
       "      <td>0.0</td>\n",
       "      <td>0.000000</td>\n",
       "      <td>0.000000</td>\n",
       "      <td>0</td>\n",
       "    </tr>\n",
       "  </tbody>\n",
       "</table>\n",
       "<p>408558 rows × 78 columns</p>\n",
       "</div>"
      ],
      "text/plain": [
       "         Dst Port  Protocol  Flow Duration  Tot Fwd Pkts  Tot Bwd Pkts  \\\n",
       "625218       8080         6       0.000004      0.503273      0.539847   \n",
       "332506        445         6       0.002345      0.503289      0.539864   \n",
       "193782       3389         6       0.019377      0.503366      0.539985   \n",
       "7294         3389         6       0.032377      0.503443      0.539985   \n",
       "59431         443         6       0.000004      0.503289      0.539847   \n",
       "...           ...       ...            ...           ...           ...   \n",
       "1220901        80         6       0.000012      0.503273      0.539847   \n",
       "152029        445         6       0.004850      0.503351      0.539934   \n",
       "106734      38561         6       0.717177      0.503273      0.539847   \n",
       "154737         80         6       0.000008      0.503289      0.539916   \n",
       "188878         80         6       0.000002      0.503273      0.539847   \n",
       "\n",
       "         TotLen Fwd Pkts  TotLen Bwd Pkts  Fwd Pkt Len Max  Fwd Pkt Len Min  \\\n",
       "625218          0.000000         0.000000         0.000000              0.0   \n",
       "332506          0.000000         0.000000         0.000000              0.0   \n",
       "193782          0.000129         0.000032         0.014890              0.0   \n",
       "7294            0.000165         0.000035         0.016332              0.0   \n",
       "59431           0.000009         0.000000         0.001036              0.0   \n",
       "...                  ...              ...              ...              ...   \n",
       "1220901         0.000000         0.000000         0.000000              0.0   \n",
       "152029          0.000042         0.000012         0.002320              0.0   \n",
       "106734          0.000000         0.000000         0.000000              0.0   \n",
       "154737          0.000018         0.000010         0.003627              0.0   \n",
       "188878          0.000000         0.000000         0.000000              0.0   \n",
       "\n",
       "         Fwd Pkt Len Mean  ...  Fwd Seg Size Min  Active Mean  Active Std  \\\n",
       "625218           0.000000  ...          0.454545          0.0         0.0   \n",
       "332506           0.000000  ...          0.454545          0.0         0.0   \n",
       "193782           0.023868  ...          0.454545          0.0         0.0   \n",
       "7294             0.018763  ...          0.454545          0.0         0.0   \n",
       "59431            0.004345  ...          0.454545          0.0         0.0   \n",
       "...                   ...  ...               ...          ...         ...   \n",
       "1220901          0.000000  ...          0.454545          0.0         0.0   \n",
       "152029           0.008802  ...          0.454545          0.0         0.0   \n",
       "106734           0.000000  ...          0.454545          0.0         0.0   \n",
       "154737           0.009084  ...          0.454545          0.0         0.0   \n",
       "188878           0.000000  ...          0.454545          0.0         0.0   \n",
       "\n",
       "         Active Max  Active Min  Idle Mean  Idle Std  Idle Max  Idle Min  \\\n",
       "625218          0.0         0.0   0.000000       0.0  0.000000  0.000000   \n",
       "332506          0.0         0.0   0.000000       0.0  0.000000  0.000000   \n",
       "193782          0.0         0.0   0.000000       0.0  0.000000  0.000000   \n",
       "7294            0.0         0.0   0.000000       0.0  0.000000  0.000000   \n",
       "59431           0.0         0.0   0.000000       0.0  0.000000  0.000000   \n",
       "...             ...         ...        ...       ...       ...       ...   \n",
       "1220901         0.0         0.0   0.000000       0.0  0.000000  0.000000   \n",
       "152029          0.0         0.0   0.000000       0.0  0.000000  0.000000   \n",
       "106734          0.0         0.0   0.717177       0.0  0.717177  0.717177   \n",
       "154737          0.0         0.0   0.000000       0.0  0.000000  0.000000   \n",
       "188878          0.0         0.0   0.000000       0.0  0.000000  0.000000   \n",
       "\n",
       "         Label  \n",
       "625218       1  \n",
       "332506       0  \n",
       "193782       0  \n",
       "7294         0  \n",
       "59431        0  \n",
       "...        ...  \n",
       "1220901      1  \n",
       "152029       0  \n",
       "106734       0  \n",
       "154737       0  \n",
       "188878       0  \n",
       "\n",
       "[408558 rows x 78 columns]"
      ]
     },
     "execution_count": 26,
     "metadata": {},
     "output_type": "execute_result"
    }
   ],
   "source": [
    "train"
   ]
  },
  {
   "cell_type": "code",
   "execution_count": 27,
   "id": "aac7798a",
   "metadata": {
    "execution": {
     "iopub.execute_input": "2024-10-13T09:48:45.464705Z",
     "iopub.status.busy": "2024-10-13T09:48:45.463924Z",
     "iopub.status.idle": "2024-10-13T09:48:45.831606Z",
     "shell.execute_reply": "2024-10-13T09:48:45.830594Z"
    },
    "papermill": {
     "duration": 0.394007,
     "end_time": "2024-10-13T09:48:45.834092",
     "exception": false,
     "start_time": "2024-10-13T09:48:45.440085",
     "status": "completed"
    },
    "tags": []
   },
   "outputs": [],
   "source": [
    "test[numerical_columns] = min_max_scaler.transform(test[numerical_columns])"
   ]
  },
  {
   "cell_type": "markdown",
   "id": "ebe2adae",
   "metadata": {
    "papermill": {
     "duration": 0.022356,
     "end_time": "2024-10-13T09:48:45.879561",
     "exception": false,
     "start_time": "2024-10-13T09:48:45.857205",
     "status": "completed"
    },
    "tags": []
   },
   "source": [
    "# Counting number of records in each split"
   ]
  },
  {
   "cell_type": "code",
   "execution_count": 28,
   "id": "4fb98518",
   "metadata": {
    "execution": {
     "iopub.execute_input": "2024-10-13T09:48:45.926972Z",
     "iopub.status.busy": "2024-10-13T09:48:45.926230Z",
     "iopub.status.idle": "2024-10-13T09:48:45.961717Z",
     "shell.execute_reply": "2024-10-13T09:48:45.960584Z"
    },
    "papermill": {
     "duration": 0.061634,
     "end_time": "2024-10-13T09:48:45.963895",
     "exception": false,
     "start_time": "2024-10-13T09:48:45.902261",
     "status": "completed"
    },
    "tags": []
   },
   "outputs": [
    {
     "name": "stdout",
     "output_type": "stream",
     "text": [
      "Full dataset:\n",
      "\n",
      "Benign: 255349\n",
      "Malicious: 255349\n",
      "---------------\n",
      "Training set:\n",
      "\n",
      "Benign: 204057\n",
      "Malicious: 204501\n",
      "---------------\n",
      "Test set:\n",
      "\n",
      "Benign: 51292\n",
      "Malicious: 50848\n"
     ]
    }
   ],
   "source": [
    "print(\"Full dataset:\\n\")\n",
    "print(\"Benign: \" + str(df_equal[\"Label\"].value_counts()[[0]].sum()))\n",
    "print(\"Malicious: \" + str(df_equal[\"Label\"].value_counts()[[1]].sum()))\n",
    "print(\"---------------\")\n",
    "\n",
    "print(\"Training set:\\n\")\n",
    "print(\"Benign: \" + str(train[\"Label\"].value_counts()[[0]].sum()))\n",
    "print(\"Malicious: \" + str(train[\"Label\"].value_counts()[[1]].sum()))\n",
    "print(\"---------------\")\n",
    "\n",
    "print(\"Test set:\\n\")\n",
    "print(\"Benign: \" + str(test[\"Label\"].value_counts()[[0]].sum()))\n",
    "print(\"Malicious: \" + str(test[\"Label\"].value_counts()[[1]].sum()))"
   ]
  },
  {
   "cell_type": "markdown",
   "id": "d3c1f53a",
   "metadata": {
    "papermill": {
     "duration": 0.022233,
     "end_time": "2024-10-13T09:48:46.008885",
     "exception": false,
     "start_time": "2024-10-13T09:48:45.986652",
     "status": "completed"
    },
    "tags": []
   },
   "source": [
    "# Creating X, y variables"
   ]
  },
  {
   "cell_type": "code",
   "execution_count": 29,
   "id": "3c592f9c",
   "metadata": {
    "execution": {
     "iopub.execute_input": "2024-10-13T09:48:46.055672Z",
     "iopub.status.busy": "2024-10-13T09:48:46.054855Z",
     "iopub.status.idle": "2024-10-13T09:48:46.307907Z",
     "shell.execute_reply": "2024-10-13T09:48:46.307016Z"
    },
    "papermill": {
     "duration": 0.279212,
     "end_time": "2024-10-13T09:48:46.310351",
     "exception": false,
     "start_time": "2024-10-13T09:48:46.031139",
     "status": "completed"
    },
    "tags": []
   },
   "outputs": [],
   "source": [
    "y_train = np.array(train.pop(\"Label\"))# pop removes \"Label\" from the dataframe\n",
    "X_train = train.values"
   ]
  },
  {
   "cell_type": "code",
   "execution_count": 30,
   "id": "a3a50b3a",
   "metadata": {
    "execution": {
     "iopub.execute_input": "2024-10-13T09:48:46.358079Z",
     "iopub.status.busy": "2024-10-13T09:48:46.357685Z",
     "iopub.status.idle": "2024-10-13T09:48:46.403927Z",
     "shell.execute_reply": "2024-10-13T09:48:46.402991Z"
    },
    "papermill": {
     "duration": 0.073115,
     "end_time": "2024-10-13T09:48:46.406338",
     "exception": false,
     "start_time": "2024-10-13T09:48:46.333223",
     "status": "completed"
    },
    "tags": []
   },
   "outputs": [],
   "source": [
    "y_test = np.array(test.pop(\"Label\")) # pop removes \"Label\" from the dataframe\n",
    "X_test = test.values"
   ]
  },
  {
   "cell_type": "markdown",
   "id": "3777d929",
   "metadata": {
    "papermill": {
     "duration": 0.022644,
     "end_time": "2024-10-13T09:48:46.451972",
     "exception": false,
     "start_time": "2024-10-13T09:48:46.429328",
     "status": "completed"
    },
    "tags": []
   },
   "source": [
    "# Decision Tree Classifier"
   ]
  },
  {
   "cell_type": "code",
   "execution_count": 31,
   "id": "f83dbac3",
   "metadata": {
    "execution": {
     "iopub.execute_input": "2024-10-13T09:48:46.499063Z",
     "iopub.status.busy": "2024-10-13T09:48:46.498665Z",
     "iopub.status.idle": "2024-10-13T09:48:54.714515Z",
     "shell.execute_reply": "2024-10-13T09:48:54.713407Z"
    },
    "papermill": {
     "duration": 8.242018,
     "end_time": "2024-10-13T09:48:54.716698",
     "exception": false,
     "start_time": "2024-10-13T09:48:46.474680",
     "status": "completed"
    },
    "tags": []
   },
   "outputs": [
    {
     "name": "stdout",
     "output_type": "stream",
     "text": [
      "Accuracy of DT: 0.9937536714313687\n",
      "Precision of DT: 0.9938065789146451\n",
      "Recall of DT: 0.9937536714313687\n",
      "F1-score of DT: 0.9937533623253663\n",
      "              precision    recall  f1-score   support\n",
      "\n",
      "           0       0.99      1.00      0.99     51292\n",
      "           1       1.00      0.99      0.99     50848\n",
      "\n",
      "    accuracy                           0.99    102140\n",
      "   macro avg       0.99      0.99      0.99    102140\n",
      "weighted avg       0.99      0.99      0.99    102140\n",
      "\n"
     ]
    },
    {
     "data": {
      "image/png": "[encoded data removed]",
      "text/plain": [
       "<Figure size 500x500 with 2 Axes>"
      ]
     },
     "metadata": {},
     "output_type": "display_data"
    }
   ],
   "source": [
    "from sklearn.metrics import classification_report,confusion_matrix,accuracy_score,precision_recall_fscore_support\n",
    "import seaborn as sns\n",
    "from sklearn.ensemble import RandomForestClassifier,ExtraTreesClassifier\n",
    "from sklearn.tree import DecisionTreeClassifier\n",
    "\n",
    "dt = DecisionTreeClassifier(max_depth=5)\n",
    "dt.fit(X_train,y_train) \n",
    "dt_score=dt.score(X_test,y_test)\n",
    "y_predict=dt.predict(X_test)\n",
    "y_true=y_test\n",
    "print('Accuracy of DT: '+ str(dt_score))\n",
    "precision,recall,fscore,none= precision_recall_fscore_support(y_true, y_predict, average='weighted') \n",
    "print('Precision of DT: '+(str(precision)))\n",
    "print('Recall of DT: '+(str(recall)))\n",
    "print('F1-score of DT: '+(str(fscore)))\n",
    "print(classification_report(y_true,y_predict))\n",
    "cm=confusion_matrix(y_true,y_predict)\n",
    "f,ax=plt.subplots(figsize=(5,5))\n",
    "sns.heatmap(cm,annot=True,linewidth=0.5,linecolor=\"red\",fmt=\".0f\",ax=ax)\n",
    "plt.xlabel(\"y_pred\")\n",
    "plt.ylabel(\"y_true\")\n",
    "plt.show()\n",
    "\n"
   ]
  },
  {
   "cell_type": "code",
   "execution_count": 32,
   "id": "7cef1d5a",
   "metadata": {
    "execution": {
     "iopub.execute_input": "2024-10-13T09:48:54.765335Z",
     "iopub.status.busy": "2024-10-13T09:48:54.764420Z",
     "iopub.status.idle": "2024-10-13T09:48:54.869451Z",
     "shell.execute_reply": "2024-10-13T09:48:54.868523Z"
    },
    "papermill": {
     "duration": 0.132036,
     "end_time": "2024-10-13T09:48:54.871924",
     "exception": false,
     "start_time": "2024-10-13T09:48:54.739888",
     "status": "completed"
    },
    "tags": []
   },
   "outputs": [],
   "source": [
    "dt_train=dt.predict(X_train)\n",
    "dt_test=dt.predict(X_test)"
   ]
  },
  {
   "cell_type": "markdown",
   "id": "40a5401e",
   "metadata": {
    "papermill": {
     "duration": 0.022943,
     "end_time": "2024-10-13T09:48:54.918249",
     "exception": false,
     "start_time": "2024-10-13T09:48:54.895306",
     "status": "completed"
    },
    "tags": []
   },
   "source": [
    "# Random Forest Classifier"
   ]
  },
  {
   "cell_type": "code",
   "execution_count": 33,
   "id": "d6ea3670",
   "metadata": {
    "execution": {
     "iopub.execute_input": "2024-10-13T09:48:54.965912Z",
     "iopub.status.busy": "2024-10-13T09:48:54.965544Z",
     "iopub.status.idle": "2024-10-13T09:49:57.135599Z",
     "shell.execute_reply": "2024-10-13T09:49:57.134483Z"
    },
    "papermill": {
     "duration": 62.196458,
     "end_time": "2024-10-13T09:49:57.137772",
     "exception": false,
     "start_time": "2024-10-13T09:48:54.941314",
     "status": "completed"
    },
    "tags": []
   },
   "outputs": [
    {
     "name": "stdout",
     "output_type": "stream",
     "text": [
      "Accuracy of RF: 0.9940278049735657\n",
      "Precision of RF: 0.9940709654292108\n",
      "Recall of RF: 0.9940278049735657\n",
      "F1-score of RF: 0.9940277962539119\n",
      "              precision    recall  f1-score   support\n",
      "\n",
      "           0       1.00      0.99      0.99     51292\n",
      "           1       0.99      1.00      0.99     50848\n",
      "\n",
      "    accuracy                           0.99    102140\n",
      "   macro avg       0.99      0.99      0.99    102140\n",
      "weighted avg       0.99      0.99      0.99    102140\n",
      "\n"
     ]
    },
    {
     "data": {
      "image/png": "[encoded data removed]",
      "text/plain": [
       "<Figure size 500x500 with 2 Axes>"
      ]
     },
     "metadata": {},
     "output_type": "display_data"
    }
   ],
   "source": [
    "rf = RandomForestClassifier(max_depth=5)\n",
    "rf.fit(X_train,y_train) \n",
    "rf_score=rf.score(X_test,y_test)\n",
    "y_predict=rf.predict(X_test)\n",
    "y_true=y_test\n",
    "print('Accuracy of RF: '+ str(rf_score))\n",
    "precision,recall,fscore,none= precision_recall_fscore_support(y_true, y_predict, average='weighted') \n",
    "print('Precision of RF: '+(str(precision)))\n",
    "print('Recall of RF: '+(str(recall)))\n",
    "print('F1-score of RF: '+(str(fscore)))\n",
    "print(classification_report(y_true,y_predict))\n",
    "cm=confusion_matrix(y_true,y_predict)\n",
    "f,ax=plt.subplots(figsize=(5,5))\n",
    "sns.heatmap(cm,annot=True,linewidth=0.5,linecolor=\"red\",fmt=\".0f\",ax=ax)\n",
    "plt.xlabel(\"y_pred\")\n",
    "plt.ylabel(\"y_true\")\n",
    "plt.show()"
   ]
  },
  {
   "cell_type": "code",
   "execution_count": 34,
   "id": "6a7829c3",
   "metadata": {
    "execution": {
     "iopub.execute_input": "2024-10-13T09:49:57.187689Z",
     "iopub.status.busy": "2024-10-13T09:49:57.186644Z",
     "iopub.status.idle": "2024-10-13T09:50:00.857114Z",
     "shell.execute_reply": "2024-10-13T09:50:00.855991Z"
    },
    "papermill": {
     "duration": 3.698045,
     "end_time": "2024-10-13T09:50:00.859712",
     "exception": false,
     "start_time": "2024-10-13T09:49:57.161667",
     "status": "completed"
    },
    "tags": []
   },
   "outputs": [],
   "source": [
    "rf_train=rf.predict(X_train)\n",
    "rf_test=rf.predict(X_test)"
   ]
  },
  {
   "cell_type": "markdown",
   "id": "915aa9ad",
   "metadata": {
    "papermill": {
     "duration": 0.023403,
     "end_time": "2024-10-13T09:50:00.907105",
     "exception": false,
     "start_time": "2024-10-13T09:50:00.883702",
     "status": "completed"
    },
    "tags": []
   },
   "source": [
    "# xGB Classifier"
   ]
  },
  {
   "cell_type": "code",
   "execution_count": 35,
   "id": "3abeea31",
   "metadata": {
    "execution": {
     "iopub.execute_input": "2024-10-13T09:50:00.956402Z",
     "iopub.status.busy": "2024-10-13T09:50:00.955424Z",
     "iopub.status.idle": "2024-10-13T09:50:06.669971Z",
     "shell.execute_reply": "2024-10-13T09:50:06.668892Z"
    },
    "papermill": {
     "duration": 5.741351,
     "end_time": "2024-10-13T09:50:06.672107",
     "exception": false,
     "start_time": "2024-10-13T09:50:00.930756",
     "status": "completed"
    },
    "tags": []
   },
   "outputs": [
    {
     "name": "stdout",
     "output_type": "stream",
     "text": [
      "Accuracy of XGBoost: 0.9991090659878598\n",
      "Precision of XGBoost: 0.9991090993150433\n",
      "Recall of XGBoost: 0.9991090659878598\n",
      "F1-score of XGBoost: 0.9991090664663601\n",
      "              precision    recall  f1-score   support\n",
      "\n",
      "           0       1.00      1.00      1.00     51292\n",
      "           1       1.00      1.00      1.00     50848\n",
      "\n",
      "    accuracy                           1.00    102140\n",
      "   macro avg       1.00      1.00      1.00    102140\n",
      "weighted avg       1.00      1.00      1.00    102140\n",
      "\n"
     ]
    },
    {
     "data": {
      "image/png": "[encoded data removed]",
      "text/plain": [
       "<Figure size 500x500 with 2 Axes>"
      ]
     },
     "metadata": {},
     "output_type": "display_data"
    }
   ],
   "source": [
    "import xgboost as xgb\n",
    "from xgboost import plot_importance\n",
    "xg = xgb.XGBClassifier(n_estimators = 3)\n",
    "xg.fit(X_train,y_train)\n",
    "xg_score=xg.score(X_test,y_test)\n",
    "y_predict=xg.predict(X_test)\n",
    "y_true=y_test\n",
    "print('Accuracy of XGBoost: '+ str(xg_score))\n",
    "precision,recall,fscore,none= precision_recall_fscore_support(y_true, y_predict, average='weighted') \n",
    "print('Precision of XGBoost: '+(str(precision)))\n",
    "print('Recall of XGBoost: '+(str(recall)))\n",
    "print('F1-score of XGBoost: '+(str(fscore)))\n",
    "print(classification_report(y_true,y_predict))\n",
    "cm=confusion_matrix(y_true,y_predict)\n",
    "f,ax=plt.subplots(figsize=(5,5))\n",
    "sns.heatmap(cm,annot=True,linewidth=0.5,linecolor=\"red\",fmt=\".0f\",ax=ax)\n",
    "plt.xlabel(\"y_pred\")\n",
    "plt.ylabel(\"y_true\")\n",
    "plt.show()\n",
    "\n"
   ]
  },
  {
   "cell_type": "code",
   "execution_count": 36,
   "id": "3703c022",
   "metadata": {
    "execution": {
     "iopub.execute_input": "2024-10-13T09:50:06.722842Z",
     "iopub.status.busy": "2024-10-13T09:50:06.721852Z",
     "iopub.status.idle": "2024-10-13T09:50:07.032868Z",
     "shell.execute_reply": "2024-10-13T09:50:07.032022Z"
    },
    "papermill": {
     "duration": 0.338687,
     "end_time": "2024-10-13T09:50:07.035198",
     "exception": false,
     "start_time": "2024-10-13T09:50:06.696511",
     "status": "completed"
    },
    "tags": []
   },
   "outputs": [],
   "source": [
    "\n",
    "\n",
    "xg_train=xg.predict(X_train)\n",
    "xg_test=xg.predict(X_test)\n",
    "\n"
   ]
  },
  {
   "cell_type": "code",
   "execution_count": 37,
   "id": "5ac9ea83",
   "metadata": {
    "execution": {
     "iopub.execute_input": "2024-10-13T09:50:07.085020Z",
     "iopub.status.busy": "2024-10-13T09:50:07.084588Z",
     "iopub.status.idle": "2024-10-13T09:50:07.360182Z",
     "shell.execute_reply": "2024-10-13T09:50:07.359031Z"
    },
    "papermill": {
     "duration": 0.30324,
     "end_time": "2024-10-13T09:50:07.362494",
     "exception": false,
     "start_time": "2024-10-13T09:50:07.059254",
     "status": "completed"
    },
    "tags": []
   },
   "outputs": [
    {
     "data": {
      "image/png": "[encoded data removed]",
      "text/plain": [
       "<Figure size 1000x600 with 1 Axes>"
      ]
     },
     "metadata": {},
     "output_type": "display_data"
    }
   ],
   "source": [
    "import matplotlib.pyplot as plt\n",
    "import numpy as np\n",
    "\n",
    "# List of classifiers\n",
    "classifiers = ['Decision Tree', 'Random Forest', 'xGBoost']\n",
    "\n",
    "# Metrics for each classifier\n",
    "accuracy = [0.99, 0.97, 0.99]\n",
    "precision = [0.99, 0.97, 0.99]\n",
    "recall = [0.99, 0.97, 0.99]\n",
    "f1 = [0.99, 0.97, 0.99]\n",
    "\n",
    "# Create a figure and axis\n",
    "fig, ax = plt.subplots(figsize=(10, 6))\n",
    "\n",
    "# Plot each metric for each classifier\n",
    "bar_width = 0.2\n",
    "index = np.arange(len(classifiers))\n",
    "\n",
    "bar1 = ax.bar(index - bar_width, accuracy, bar_width, label='Accuracy')\n",
    "bar2 = ax.bar(index, precision, bar_width, label='Precision')\n",
    "bar3 = ax.bar(index + bar_width, recall, bar_width, label='Recall')\n",
    "bar4 = ax.bar(index + 2 * bar_width, f1, bar_width, label='F1')\n",
    "\n",
    "# Set labels and title\n",
    "ax.set_xlabel('Classifiers')\n",
    "ax.set_ylabel('Scores')\n",
    "ax.set_title('Classifier Metrics Comparison')\n",
    "ax.set_xticks(index + bar_width)\n",
    "ax.set_xticklabels(classifiers)\n",
    "ax.legend()\n",
    "\n",
    "# Show the plot\n",
    "plt.show()"
   ]
  },
  {
   "cell_type": "code",
   "execution_count": 38,
   "id": "9a0ec8dc",
   "metadata": {
    "execution": {
     "iopub.execute_input": "2024-10-13T09:50:07.414380Z",
     "iopub.status.busy": "2024-10-13T09:50:07.413455Z",
     "iopub.status.idle": "2024-10-13T09:50:07.694611Z",
     "shell.execute_reply": "2024-10-13T09:50:07.693583Z"
    },
    "papermill": {
     "duration": 0.309168,
     "end_time": "2024-10-13T09:50:07.696667",
     "exception": false,
     "start_time": "2024-10-13T09:50:07.387499",
     "status": "completed"
    },
    "tags": []
   },
   "outputs": [
    {
     "data": {
      "image/png": "[encoded data removed]",
      "text/plain": [
       "<Figure size 1000x600 with 1 Axes>"
      ]
     },
     "metadata": {},
     "output_type": "display_data"
    }
   ],
   "source": [
    "#Create a figure and axis\n",
    "fig, ax = plt.subplots(figsize=(10, 6))\n",
    "\n",
    "# Plot lines for each metric\n",
    "ax.plot(classifiers, accuracy, marker='o', label='Accuracy')\n",
    "ax.plot(classifiers, precision, marker='o', label='Precision')\n",
    "ax.plot(classifiers, recall, marker='o', label='Recall')\n",
    "ax.plot(classifiers, f1, marker='o', label='F1')\n",
    "\n",
    "# Set labels and title\n",
    "ax.set_xlabel('Classifiers')\n",
    "ax.set_ylabel('Scores')\n",
    "ax.set_title('Classifier Metrics Comparison')\n",
    "ax.legend()\n",
    "\n",
    "# Rotate x-axis labels for better readability\n",
    "plt.xticks(rotation=45, ha='right')\n",
    "\n",
    "# Show the plot\n",
    "plt.grid(True)\n",
    "plt.tight_layout()\n",
    "plt.show()"
   ]
  }
 ],
 "metadata": {
  "kaggle": {
   "accelerator": "none",
   "dataSources": [
    {
     "datasetId": 1634161,
     "sourceId": 2684763,
     "sourceType": "datasetVersion"
    }
   ],
   "dockerImageVersionId": 30474,
   "isGpuEnabled": false,
   "isInternetEnabled": false,
   "language": "python",
   "sourceType": "notebook"
  },
  "kernelspec": {
   "display_name": "Python 3",
   "language": "python",
   "name": "python3"
  },
  "language_info": {
   "codemirror_mode": {
    "name": "ipython",
    "version": 3
   },
   "file_extension": ".py",
   "mimetype": "text/x-python",
   "name": "python",
   "nbconvert_exporter": "python",
   "pygments_lexer": "ipython3",
   "version": "3.10.10"
  },
  "papermill": {
   "default_parameters": {},
   "duration": 134.264654,
   "end_time": "2024-10-13T09:50:08.846062",
   "environment_variables": {},
   "exception": null,
   "input_path": "__notebook__.ipynb",
   "output_path": "__notebook__.ipynb",
   "parameters": {},
   "start_time": "2024-10-13T09:47:54.581408",
   "version": "2.4.0"
  }
 },
 "nbformat": 4,
 "nbformat_minor": 5
}
